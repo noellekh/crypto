{
 "cells": [
  {
   "cell_type": "markdown",
   "metadata": {},
   "source": [
    "# ETHEREUM dataset"
   ]
  },
  {
   "cell_type": "markdown",
   "metadata": {},
   "source": [
    "# Loading previous model"
   ]
  },
  {
   "cell_type": "code",
   "execution_count": 3,
   "metadata": {},
   "outputs": [],
   "source": [
    "from tensorflow.keras import models\n",
    "loaded_model = models.load_model('tweeter_model')"
   ]
  },
  {
   "cell_type": "code",
   "execution_count": 5,
   "metadata": {},
   "outputs": [
    {
     "data": {
      "text/plain": [
       "<keras.engine.sequential.Sequential at 0x28cb03d60>"
      ]
     },
     "execution_count": 5,
     "metadata": {},
     "output_type": "execute_result"
    }
   ],
   "source": [
    "loaded_model"
   ]
  },
  {
   "cell_type": "code",
   "execution_count": 6,
   "metadata": {},
   "outputs": [],
   "source": [
    "import pandas as pd"
   ]
  },
  {
   "cell_type": "code",
   "execution_count": 7,
   "metadata": {},
   "outputs": [],
   "source": [
    "eth_tweets = pd.read_csv(\"../raw_data/Ethereum_tweets.csv\")"
   ]
  },
  {
   "cell_type": "code",
   "execution_count": 9,
   "metadata": {},
   "outputs": [
    {
     "data": {
      "text/html": [
       "<div>\n",
       "<style scoped>\n",
       "    .dataframe tbody tr th:only-of-type {\n",
       "        vertical-align: middle;\n",
       "    }\n",
       "\n",
       "    .dataframe tbody tr th {\n",
       "        vertical-align: top;\n",
       "    }\n",
       "\n",
       "    .dataframe thead th {\n",
       "        text-align: right;\n",
       "    }\n",
       "</style>\n",
       "<table border=\"1\" class=\"dataframe\">\n",
       "  <thead>\n",
       "    <tr style=\"text-align: right;\">\n",
       "      <th></th>\n",
       "      <th>user_name</th>\n",
       "      <th>user_location</th>\n",
       "      <th>user_description</th>\n",
       "      <th>user_created</th>\n",
       "      <th>user_followers</th>\n",
       "      <th>user_friends</th>\n",
       "      <th>user_favourites</th>\n",
       "      <th>user_verified</th>\n",
       "      <th>date</th>\n",
       "      <th>text</th>\n",
       "      <th>hashtags</th>\n",
       "      <th>source</th>\n",
       "      <th>is_retweet</th>\n",
       "    </tr>\n",
       "  </thead>\n",
       "  <tbody>\n",
       "    <tr>\n",
       "      <th>0</th>\n",
       "      <td>#1 Crypto Currency TRADING</td>\n",
       "      <td>NaN</td>\n",
       "      <td>Profit thought trading, Learn , Trade &amp; Earn💲....</td>\n",
       "      <td>2021-11-10 10:42:01+00:00</td>\n",
       "      <td>4</td>\n",
       "      <td>0</td>\n",
       "      <td>0</td>\n",
       "      <td>False</td>\n",
       "      <td>2021-11-15 07:26:39+00:00</td>\n",
       "      <td>Get upto 1000 that’s 10x with our premium spot...</td>\n",
       "      <td>NaN</td>\n",
       "      <td>Twitter for Android</td>\n",
       "      <td>False</td>\n",
       "    </tr>\n",
       "    <tr>\n",
       "      <th>1</th>\n",
       "      <td>Reyrey</td>\n",
       "      <td>Kuala Lumpur</td>\n",
       "      <td>Artist | NFT Broker &amp; Collector for AnideaNFT ...</td>\n",
       "      <td>2011-03-07 07:22:57+00:00</td>\n",
       "      <td>343</td>\n",
       "      <td>650</td>\n",
       "      <td>589</td>\n",
       "      <td>False</td>\n",
       "      <td>2021-11-15 07:26:35+00:00</td>\n",
       "      <td>Adopted a Hypocat #053, “Crazy Rich Cat” 🤑💵💵💵🤩...</td>\n",
       "      <td>['SupportingCreators', 'CryptoArt', 'CryptoArt...</td>\n",
       "      <td>Twitter for iPhone</td>\n",
       "      <td>False</td>\n",
       "    </tr>\n",
       "    <tr>\n",
       "      <th>2</th>\n",
       "      <td>akter jahan</td>\n",
       "      <td>NaN</td>\n",
       "      <td>NaN</td>\n",
       "      <td>2021-10-28 13:28:05+00:00</td>\n",
       "      <td>1</td>\n",
       "      <td>2</td>\n",
       "      <td>0</td>\n",
       "      <td>False</td>\n",
       "      <td>2021-11-15 07:26:32+00:00</td>\n",
       "      <td>Top 10 Coins by Social Engagement over the las...</td>\n",
       "      <td>['LunarCrush', 'bitcoin', 'dogecoin']</td>\n",
       "      <td>Twitter Web App</td>\n",
       "      <td>False</td>\n",
       "    </tr>\n",
       "    <tr>\n",
       "      <th>3</th>\n",
       "      <td>riyan</td>\n",
       "      <td>NaN</td>\n",
       "      <td>i always paricipated your project</td>\n",
       "      <td>2021-09-16 16:59:11+00:00</td>\n",
       "      <td>11</td>\n",
       "      <td>127</td>\n",
       "      <td>99</td>\n",
       "      <td>False</td>\n",
       "      <td>2021-11-15 07:26:30+00:00</td>\n",
       "      <td>Requesting faucet funds into 0x5278942b39deD8c...</td>\n",
       "      <td>['Rinkeby', 'Ethereum']</td>\n",
       "      <td>Twitter Web App</td>\n",
       "      <td>False</td>\n",
       "    </tr>\n",
       "    <tr>\n",
       "      <th>4</th>\n",
       "      <td>Michelle Eriksen</td>\n",
       "      <td>NaN</td>\n",
       "      <td>Art Creator, NFT, Crypto</td>\n",
       "      <td>2021-08-11 06:40:08+00:00</td>\n",
       "      <td>522</td>\n",
       "      <td>1428</td>\n",
       "      <td>16</td>\n",
       "      <td>False</td>\n",
       "      <td>2021-11-15 07:26:30+00:00</td>\n",
       "      <td>New Listing BTS 0.008ETH !! \\n#NFTs  #nftcolle...</td>\n",
       "      <td>['NFTs', 'nftcollector', 'NFTCommunity', 'art'...</td>\n",
       "      <td>Twitter Web App</td>\n",
       "      <td>False</td>\n",
       "    </tr>\n",
       "  </tbody>\n",
       "</table>\n",
       "</div>"
      ],
      "text/plain": [
       "                    user_name user_location  \\\n",
       "0  #1 Crypto Currency TRADING           NaN   \n",
       "1                      Reyrey  Kuala Lumpur   \n",
       "2                 akter jahan           NaN   \n",
       "3                       riyan           NaN   \n",
       "4            Michelle Eriksen           NaN   \n",
       "\n",
       "                                    user_description  \\\n",
       "0  Profit thought trading, Learn , Trade & Earn💲....   \n",
       "1  Artist | NFT Broker & Collector for AnideaNFT ...   \n",
       "2                                                NaN   \n",
       "3                  i always paricipated your project   \n",
       "4                           Art Creator, NFT, Crypto   \n",
       "\n",
       "                user_created  user_followers  user_friends  user_favourites  \\\n",
       "0  2021-11-10 10:42:01+00:00               4             0                0   \n",
       "1  2011-03-07 07:22:57+00:00             343           650              589   \n",
       "2  2021-10-28 13:28:05+00:00               1             2                0   \n",
       "3  2021-09-16 16:59:11+00:00              11           127               99   \n",
       "4  2021-08-11 06:40:08+00:00             522          1428               16   \n",
       "\n",
       "   user_verified                       date  \\\n",
       "0          False  2021-11-15 07:26:39+00:00   \n",
       "1          False  2021-11-15 07:26:35+00:00   \n",
       "2          False  2021-11-15 07:26:32+00:00   \n",
       "3          False  2021-11-15 07:26:30+00:00   \n",
       "4          False  2021-11-15 07:26:30+00:00   \n",
       "\n",
       "                                                text  \\\n",
       "0  Get upto 1000 that’s 10x with our premium spot...   \n",
       "1  Adopted a Hypocat #053, “Crazy Rich Cat” 🤑💵💵💵🤩...   \n",
       "2  Top 10 Coins by Social Engagement over the las...   \n",
       "3  Requesting faucet funds into 0x5278942b39deD8c...   \n",
       "4  New Listing BTS 0.008ETH !! \\n#NFTs  #nftcolle...   \n",
       "\n",
       "                                            hashtags               source  \\\n",
       "0                                                NaN  Twitter for Android   \n",
       "1  ['SupportingCreators', 'CryptoArt', 'CryptoArt...   Twitter for iPhone   \n",
       "2              ['LunarCrush', 'bitcoin', 'dogecoin']      Twitter Web App   \n",
       "3                            ['Rinkeby', 'Ethereum']      Twitter Web App   \n",
       "4  ['NFTs', 'nftcollector', 'NFTCommunity', 'art'...      Twitter Web App   \n",
       "\n",
       "   is_retweet  \n",
       "0       False  \n",
       "1       False  \n",
       "2       False  \n",
       "3       False  \n",
       "4       False  "
      ]
     },
     "execution_count": 9,
     "metadata": {},
     "output_type": "execute_result"
    }
   ],
   "source": [
    "eth_tweets.head()"
   ]
  },
  {
   "cell_type": "code",
   "execution_count": null,
   "metadata": {},
   "outputs": [],
   "source": []
  }
 ],
 "metadata": {
  "kernelspec": {
   "display_name": "Python 3.9.14 64-bit ('crypto')",
   "language": "python",
   "name": "python3"
  },
  "language_info": {
   "codemirror_mode": {
    "name": "ipython",
    "version": 3
   },
   "file_extension": ".py",
   "mimetype": "text/x-python",
   "name": "python",
   "nbconvert_exporter": "python",
   "pygments_lexer": "ipython3",
   "version": "3.9.14"
  },
  "orig_nbformat": 4,
  "vscode": {
   "interpreter": {
    "hash": "47ae32b5c05d6804bd8ae4a5ad60d350f625edab1e589b4abf43ec4afcda3497"
   }
  }
 },
 "nbformat": 4,
 "nbformat_minor": 2
}
