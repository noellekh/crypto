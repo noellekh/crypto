{
 "cells": [
  {
   "cell_type": "code",
   "execution_count": null,
   "metadata": {},
   "outputs": [],
   "source": [
    "import pandas as pd\n",
    "import numpy as np\n",
    "from os import listdir"
   ]
  },
  {
   "cell_type": "code",
   "execution_count": null,
   "metadata": {},
   "outputs": [],
   "source": [
    "mypath = \"../raw_data/crypto_data/\"\n",
    "files = [f for f in listdir(mypath)]\n",
    "files"
   ]
  },
  {
   "cell_type": "code",
   "execution_count": null,
   "metadata": {},
   "outputs": [],
   "source": [
    "from autots import AutoTS"
   ]
  },
  {
   "cell_type": "code",
   "execution_count": null,
   "metadata": {},
   "outputs": [],
   "source": [
    "pd.read_csv(mypath+files[0])"
   ]
  },
  {
   "cell_type": "code",
   "execution_count": null,
   "metadata": {},
   "outputs": [],
   "source": [
    "data.head()\n"
   ]
  },
  {
   "cell_type": "code",
   "execution_count": null,
   "metadata": {},
   "outputs": [],
   "source": [
    "data = pd.read_csv(mypath+files[0])\n",
    "data.loc[:,'time'] = pd.to_datetime(data.loc[:,'time'],unit='ms')\n",
    "model = AutoTS(forecast_length=5, frequency='infer', ensemble='simple')\n",
    "model = model.fit(data, date_col='time', value_col='close', id_col=None)\n",
    " \n",
    "prediction = model.predict()\n",
    "forecast = prediction.forecast\n",
    "print(\"DogeCoin Price Prediction\")\n",
    "print(forecast)\n",
    "\n"
   ]
  },
  {
   "cell_type": "code",
   "execution_count": null,
   "metadata": {},
   "outputs": [],
   "source": [
    "model.best_model[\"TransformationParameters\"].values"
   ]
  },
  {
   "cell_type": "code",
   "execution_count": null,
   "metadata": {},
   "outputs": [],
   "source": [
    "forecast = prediction.forecast\n",
    "print(\"DogeCoin Price Prediction\")\n",
    "print(forecast)"
   ]
  },
  {
   "cell_type": "code",
   "execution_count": null,
   "metadata": {},
   "outputs": [],
   "source": [
    "from os import listdir\n",
    "LOCAL_DATA_PATH=\"/Users/johnnyharika/.lewagon/mlops/data_project\"\n",
    "files = [f for f in listdir(LOCAL_DATA_PATH+\"/raw\") if \".csv\" in f]\n",
    "files = [f for f in files if \"USDT\" in f]\n",
    "files"
   ]
  },
  {
   "cell_type": "code",
   "execution_count": null,
   "metadata": {},
   "outputs": [],
   "source": [
    "from matplotlib.animation import FuncAnimation\n",
    "import matplotlib.pyplot as plt\n",
    "%matplotlib notebook\n"
   ]
  },
  {
   "cell_type": "code",
   "execution_count": null,
   "metadata": {},
   "outputs": [],
   "source": [
    "fig, ax = plt.subplots()\n",
    "line, = ax.plot([])     # A tuple unpacking to unpack the only plot\n",
    "ax.set_xlim(0, 2*np.pi)\n",
    "ax.set_ylim(-1.1, 1.1)"
   ]
  },
  {
   "cell_type": "code",
   "execution_count": null,
   "metadata": {},
   "outputs": [],
   "source": [
    "x = np.linspace(0, 2*np.pi, 100)\n",
    "y = np.sin(x)"
   ]
  },
  {
   "cell_type": "code",
   "execution_count": null,
   "metadata": {},
   "outputs": [],
   "source": [
    "def animate(frame_num):\n",
    "    y = np.sin(x + 2*np.pi * frame_num/100)\n",
    "    line.set_data((x, y))\n",
    "    return line"
   ]
  },
  {
   "cell_type": "code",
   "execution_count": null,
   "metadata": {},
   "outputs": [],
   "source": [
    "anim = FuncAnimation(fig, animate, frames=100, interval=20)\n",
    "plt.show()"
   ]
  },
  {
   "cell_type": "code",
   "execution_count": 2,
   "metadata": {},
   "outputs": [
    {
     "data": {
      "text/html": [
       "<div>\n",
       "<style scoped>\n",
       "    .dataframe tbody tr th:only-of-type {\n",
       "        vertical-align: middle;\n",
       "    }\n",
       "\n",
       "    .dataframe tbody tr th {\n",
       "        vertical-align: top;\n",
       "    }\n",
       "\n",
       "    .dataframe thead th {\n",
       "        text-align: right;\n",
       "    }\n",
       "</style>\n",
       "<table border=\"1\" class=\"dataframe\">\n",
       "  <thead>\n",
       "    <tr style=\"text-align: right;\">\n",
       "      <th></th>\n",
       "      <th>Open</th>\n",
       "      <th>High</th>\n",
       "      <th>Low</th>\n",
       "      <th>Close</th>\n",
       "      <th>Volume</th>\n",
       "    </tr>\n",
       "    <tr>\n",
       "      <th>Time</th>\n",
       "      <th></th>\n",
       "      <th></th>\n",
       "      <th></th>\n",
       "      <th></th>\n",
       "      <th></th>\n",
       "    </tr>\n",
       "  </thead>\n",
       "  <tbody>\n",
       "    <tr>\n",
       "      <th>2017-08-17 00:00:00</th>\n",
       "      <td>4261.48</td>\n",
       "      <td>4328.69</td>\n",
       "      <td>4261.32</td>\n",
       "      <td>4315.32</td>\n",
       "      <td>70.415925</td>\n",
       "    </tr>\n",
       "    <tr>\n",
       "      <th>2017-08-17 06:00:00</th>\n",
       "      <td>4330.29</td>\n",
       "      <td>4485.39</td>\n",
       "      <td>4287.41</td>\n",
       "      <td>4427.30</td>\n",
       "      <td>75.292822</td>\n",
       "    </tr>\n",
       "    <tr>\n",
       "      <th>2017-08-17 12:00:00</th>\n",
       "      <td>4436.06</td>\n",
       "      <td>4485.39</td>\n",
       "      <td>4235.45</td>\n",
       "      <td>4289.24</td>\n",
       "      <td>301.685704</td>\n",
       "    </tr>\n",
       "    <tr>\n",
       "      <th>2017-08-17 18:00:00</th>\n",
       "      <td>4289.24</td>\n",
       "      <td>4369.69</td>\n",
       "      <td>4200.74</td>\n",
       "      <td>4285.08</td>\n",
       "      <td>347.755926</td>\n",
       "    </tr>\n",
       "    <tr>\n",
       "      <th>2017-08-18 00:00:00</th>\n",
       "      <td>4285.08</td>\n",
       "      <td>4340.62</td>\n",
       "      <td>4134.61</td>\n",
       "      <td>4313.56</td>\n",
       "      <td>391.159844</td>\n",
       "    </tr>\n",
       "    <tr>\n",
       "      <th>...</th>\n",
       "      <td>...</td>\n",
       "      <td>...</td>\n",
       "      <td>...</td>\n",
       "      <td>...</td>\n",
       "      <td>...</td>\n",
       "    </tr>\n",
       "    <tr>\n",
       "      <th>2022-12-06 18:00:00</th>\n",
       "      <td>16959.77</td>\n",
       "      <td>17107.01</td>\n",
       "      <td>16912.24</td>\n",
       "      <td>17088.96</td>\n",
       "      <td>49763.583600</td>\n",
       "    </tr>\n",
       "    <tr>\n",
       "      <th>2022-12-07 00:00:00</th>\n",
       "      <td>17088.96</td>\n",
       "      <td>17142.21</td>\n",
       "      <td>16973.26</td>\n",
       "      <td>17004.51</td>\n",
       "      <td>47652.892390</td>\n",
       "    </tr>\n",
       "    <tr>\n",
       "      <th>2022-12-07 06:00:00</th>\n",
       "      <td>17004.20</td>\n",
       "      <td>17006.58</td>\n",
       "      <td>16678.83</td>\n",
       "      <td>16793.29</td>\n",
       "      <td>74404.748340</td>\n",
       "    </tr>\n",
       "    <tr>\n",
       "      <th>2022-12-07 12:00:00</th>\n",
       "      <td>16793.29</td>\n",
       "      <td>16897.38</td>\n",
       "      <td>16765.12</td>\n",
       "      <td>16805.85</td>\n",
       "      <td>64077.872950</td>\n",
       "    </tr>\n",
       "    <tr>\n",
       "      <th>2022-12-07 18:00:00</th>\n",
       "      <td>16805.99</td>\n",
       "      <td>16839.38</td>\n",
       "      <td>16783.05</td>\n",
       "      <td>16835.78</td>\n",
       "      <td>15925.827450</td>\n",
       "    </tr>\n",
       "  </tbody>\n",
       "</table>\n",
       "<p>7750 rows × 5 columns</p>\n",
       "</div>"
      ],
      "text/plain": [
       "                         Open      High       Low     Close        Volume\n",
       "Time                                                                     \n",
       "2017-08-17 00:00:00   4261.48   4328.69   4261.32   4315.32     70.415925\n",
       "2017-08-17 06:00:00   4330.29   4485.39   4287.41   4427.30     75.292822\n",
       "2017-08-17 12:00:00   4436.06   4485.39   4235.45   4289.24    301.685704\n",
       "2017-08-17 18:00:00   4289.24   4369.69   4200.74   4285.08    347.755926\n",
       "2017-08-18 00:00:00   4285.08   4340.62   4134.61   4313.56    391.159844\n",
       "...                       ...       ...       ...       ...           ...\n",
       "2022-12-06 18:00:00  16959.77  17107.01  16912.24  17088.96  49763.583600\n",
       "2022-12-07 00:00:00  17088.96  17142.21  16973.26  17004.51  47652.892390\n",
       "2022-12-07 06:00:00  17004.20  17006.58  16678.83  16793.29  74404.748340\n",
       "2022-12-07 12:00:00  16793.29  16897.38  16765.12  16805.85  64077.872950\n",
       "2022-12-07 18:00:00  16805.99  16839.38  16783.05  16835.78  15925.827450\n",
       "\n",
       "[7750 rows x 5 columns]"
      ]
     },
     "execution_count": 2,
     "metadata": {},
     "output_type": "execute_result"
    }
   ],
   "source": [
    "from binance import Client\n",
    "import os\n",
    "import pandas as pd\n",
    "\n",
    "\n",
    "client = Client(api_key, api_secret)\n",
    "\n",
    "asset = 'BTCUSDT'\n",
    "\n",
    "def getminutedata(symbol, interval, lookback):\n",
    "    frame = pd.DataFrame(client.get_historical_klines(symbol, interval, lookback))\n",
    "    frame = frame.iloc[:,:6]\n",
    "    frame.columns = ['Time', 'Open', 'High', 'Low', 'Close', 'Volume']\n",
    "    frame = frame.set_index('Time')\n",
    "    frame.index = pd.to_datetime(frame.index, unit='ms')\n",
    "    frame = frame.astype(float)\n",
    "    return frame\n",
    "\n",
    "df = getminutedata(asset, '6h', '2000d')\n",
    "df"
   ]
  },
  {
   "cell_type": "code",
   "execution_count": 6,
   "metadata": {},
   "outputs": [
    {
     "data": {
      "text/plain": [
       "(1938, 5)"
      ]
     },
     "execution_count": 6,
     "metadata": {},
     "output_type": "execute_result"
    }
   ],
   "source": [
    "df.shape"
   ]
  }
 ],
 "metadata": {
  "kernelspec": {
   "display_name": "Python 3.10.6 64-bit ('crypto')",
   "language": "python",
   "name": "python3"
  },
  "language_info": {
   "codemirror_mode": {
    "name": "ipython",
    "version": 3
   },
   "file_extension": ".py",
   "mimetype": "text/x-python",
   "name": "python",
   "nbconvert_exporter": "python",
   "pygments_lexer": "ipython3",
   "version": "3.10.6"
  },
  "orig_nbformat": 4,
  "vscode": {
   "interpreter": {
    "hash": "65bc1555503cd9064b161d4f43257a22b8775586fdc7c0b72053b09cfa2f6858"
   }
  }
 },
 "nbformat": 4,
 "nbformat_minor": 2
}
