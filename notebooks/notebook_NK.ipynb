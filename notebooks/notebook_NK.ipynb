{
 "cells": [
  {
   "cell_type": "code",
   "execution_count": 1,
   "metadata": {},
   "outputs": [],
   "source": [
    "import pandas as pd\n",
    "import numpy as np\n",
    "from os import listdir\n",
    "import matplotlib.pyplot as plt\n",
    "import seaborn as sns"
   ]
  },
  {
   "cell_type": "markdown",
   "metadata": {},
   "source": [
    "# Dataset Bitfinex"
   ]
  },
  {
   "cell_type": "markdown",
   "metadata": {},
   "source": [
    "### Collecting data"
   ]
  },
  {
   "cell_type": "code",
   "execution_count": 2,
   "metadata": {},
   "outputs": [],
   "source": [
    "mypath = \"../raw_data/crypto_data\"\n",
    "onlyfiles = [f for f in listdir(mypath)]\n"
   ]
  },
  {
   "cell_type": "code",
   "execution_count": 3,
   "metadata": {},
   "outputs": [],
   "source": [
    "df = pd.read_csv(\"../raw_data/crypto_data/1inch-usd.csv\")\n",
    "    "
   ]
  },
  {
   "cell_type": "code",
   "execution_count": 4,
   "metadata": {},
   "outputs": [
    {
     "data": {
      "text/html": [
       "<div>\n",
       "<style scoped>\n",
       "    .dataframe tbody tr th:only-of-type {\n",
       "        vertical-align: middle;\n",
       "    }\n",
       "\n",
       "    .dataframe tbody tr th {\n",
       "        vertical-align: top;\n",
       "    }\n",
       "\n",
       "    .dataframe thead th {\n",
       "        text-align: right;\n",
       "    }\n",
       "</style>\n",
       "<table border=\"1\" class=\"dataframe\">\n",
       "  <thead>\n",
       "    <tr style=\"text-align: right;\">\n",
       "      <th></th>\n",
       "      <th>time</th>\n",
       "      <th>open</th>\n",
       "      <th>close</th>\n",
       "      <th>high</th>\n",
       "      <th>low</th>\n",
       "      <th>volume</th>\n",
       "      <th>Unnamed: 0</th>\n",
       "    </tr>\n",
       "  </thead>\n",
       "  <tbody>\n",
       "    <tr>\n",
       "      <th>0</th>\n",
       "      <td>1628623620000</td>\n",
       "      <td>2.7621</td>\n",
       "      <td>2.7662</td>\n",
       "      <td>2.7662</td>\n",
       "      <td>2.7621</td>\n",
       "      <td>1259.937600</td>\n",
       "      <td>NaN</td>\n",
       "    </tr>\n",
       "    <tr>\n",
       "      <th>1</th>\n",
       "      <td>1628623980000</td>\n",
       "      <td>2.7668</td>\n",
       "      <td>2.7668</td>\n",
       "      <td>2.7668</td>\n",
       "      <td>2.7668</td>\n",
       "      <td>12.660914</td>\n",
       "      <td>NaN</td>\n",
       "    </tr>\n",
       "    <tr>\n",
       "      <th>2</th>\n",
       "      <td>1628624100000</td>\n",
       "      <td>2.7610</td>\n",
       "      <td>2.7664</td>\n",
       "      <td>2.7664</td>\n",
       "      <td>2.7610</td>\n",
       "      <td>0.199698</td>\n",
       "      <td>NaN</td>\n",
       "    </tr>\n",
       "    <tr>\n",
       "      <th>3</th>\n",
       "      <td>1628624220000</td>\n",
       "      <td>2.7710</td>\n",
       "      <td>2.7710</td>\n",
       "      <td>2.7710</td>\n",
       "      <td>2.7710</td>\n",
       "      <td>0.001921</td>\n",
       "      <td>NaN</td>\n",
       "    </tr>\n",
       "    <tr>\n",
       "      <th>4</th>\n",
       "      <td>1628625300000</td>\n",
       "      <td>2.7706</td>\n",
       "      <td>2.7709</td>\n",
       "      <td>2.7709</td>\n",
       "      <td>2.7706</td>\n",
       "      <td>133.633900</td>\n",
       "      <td>NaN</td>\n",
       "    </tr>\n",
       "  </tbody>\n",
       "</table>\n",
       "</div>"
      ],
      "text/plain": [
       "            time    open   close    high     low       volume  Unnamed: 0\n",
       "0  1628623620000  2.7621  2.7662  2.7662  2.7621  1259.937600         NaN\n",
       "1  1628623980000  2.7668  2.7668  2.7668  2.7668    12.660914         NaN\n",
       "2  1628624100000  2.7610  2.7664  2.7664  2.7610     0.199698         NaN\n",
       "3  1628624220000  2.7710  2.7710  2.7710  2.7710     0.001921         NaN\n",
       "4  1628625300000  2.7706  2.7709  2.7709  2.7706   133.633900         NaN"
      ]
     },
     "execution_count": 4,
     "metadata": {},
     "output_type": "execute_result"
    }
   ],
   "source": [
    "df.head()"
   ]
  },
  {
   "cell_type": "code",
   "execution_count": 5,
   "metadata": {},
   "outputs": [
    {
     "data": {
      "text/plain": [
       "Index(['time', 'open', 'close', 'high', 'low', 'volume', 'Unnamed: 0'], dtype='object')"
      ]
     },
     "execution_count": 5,
     "metadata": {},
     "output_type": "execute_result"
    }
   ],
   "source": [
    "df.columns"
   ]
  },
  {
   "cell_type": "markdown",
   "metadata": {},
   "source": [
    "### Cleaning data"
   ]
  },
  {
   "cell_type": "code",
   "execution_count": 6,
   "metadata": {},
   "outputs": [
    {
     "data": {
      "text/plain": [
       "0      2021-08-10 19:27:00\n",
       "1      2021-08-10 19:33:00\n",
       "2      2021-08-10 19:35:00\n",
       "3      2021-08-10 19:37:00\n",
       "4      2021-08-10 19:55:00\n",
       "               ...        \n",
       "7135   2021-08-29 13:06:00\n",
       "7136   2021-08-29 13:08:00\n",
       "7137   2021-08-29 13:10:00\n",
       "7138   2021-08-29 13:12:00\n",
       "7139   2021-08-29 13:14:00\n",
       "Name: time, Length: 7140, dtype: datetime64[ns]"
      ]
     },
     "execution_count": 6,
     "metadata": {},
     "output_type": "execute_result"
    }
   ],
   "source": [
    "df[\"time\"]= pd.to_datetime(df[\"time\"], unit='ms')\n",
    "df['time']\n"
   ]
  },
  {
   "cell_type": "code",
   "execution_count": 7,
   "metadata": {},
   "outputs": [],
   "source": [
    "df.isnull().sum()\n",
    "df = df.drop(columns = ['Unnamed: 0'])"
   ]
  },
  {
   "cell_type": "markdown",
   "metadata": {},
   "source": [
    "## Dataset Binance"
   ]
  },
  {
   "cell_type": "markdown",
   "metadata": {},
   "source": [
    "### Collecting data"
   ]
  },
  {
   "cell_type": "code",
   "execution_count": 8,
   "metadata": {},
   "outputs": [],
   "source": [
    "path = \"../raw_data/ETH-USDT.parquet\"\n",
    "eth = pd.read_parquet(path, engine='auto')"
   ]
  },
  {
   "cell_type": "code",
   "execution_count": 9,
   "metadata": {},
   "outputs": [
    {
     "data": {
      "text/html": [
       "<div>\n",
       "<style scoped>\n",
       "    .dataframe tbody tr th:only-of-type {\n",
       "        vertical-align: middle;\n",
       "    }\n",
       "\n",
       "    .dataframe tbody tr th {\n",
       "        vertical-align: top;\n",
       "    }\n",
       "\n",
       "    .dataframe thead th {\n",
       "        text-align: right;\n",
       "    }\n",
       "</style>\n",
       "<table border=\"1\" class=\"dataframe\">\n",
       "  <thead>\n",
       "    <tr style=\"text-align: right;\">\n",
       "      <th></th>\n",
       "      <th>open</th>\n",
       "      <th>high</th>\n",
       "      <th>low</th>\n",
       "      <th>close</th>\n",
       "      <th>volume</th>\n",
       "      <th>quote_asset_volume</th>\n",
       "      <th>number_of_trades</th>\n",
       "      <th>taker_buy_base_asset_volume</th>\n",
       "      <th>taker_buy_quote_asset_volume</th>\n",
       "    </tr>\n",
       "    <tr>\n",
       "      <th>open_time</th>\n",
       "      <th></th>\n",
       "      <th></th>\n",
       "      <th></th>\n",
       "      <th></th>\n",
       "      <th></th>\n",
       "      <th></th>\n",
       "      <th></th>\n",
       "      <th></th>\n",
       "      <th></th>\n",
       "    </tr>\n",
       "  </thead>\n",
       "  <tbody>\n",
       "    <tr>\n",
       "      <th>2017-08-17 04:00:00</th>\n",
       "      <td>301.130005</td>\n",
       "      <td>301.130005</td>\n",
       "      <td>301.130005</td>\n",
       "      <td>301.130005</td>\n",
       "      <td>0.42643</td>\n",
       "      <td>128.410873</td>\n",
       "      <td>2</td>\n",
       "      <td>0.42643</td>\n",
       "      <td>128.410873</td>\n",
       "    </tr>\n",
       "    <tr>\n",
       "      <th>2017-08-17 04:01:00</th>\n",
       "      <td>301.130005</td>\n",
       "      <td>301.130005</td>\n",
       "      <td>301.130005</td>\n",
       "      <td>301.130005</td>\n",
       "      <td>2.75787</td>\n",
       "      <td>830.477417</td>\n",
       "      <td>4</td>\n",
       "      <td>2.75787</td>\n",
       "      <td>830.477417</td>\n",
       "    </tr>\n",
       "    <tr>\n",
       "      <th>2017-08-17 04:02:00</th>\n",
       "      <td>300.000000</td>\n",
       "      <td>300.000000</td>\n",
       "      <td>300.000000</td>\n",
       "      <td>300.000000</td>\n",
       "      <td>0.09930</td>\n",
       "      <td>29.790001</td>\n",
       "      <td>2</td>\n",
       "      <td>0.09930</td>\n",
       "      <td>29.790001</td>\n",
       "    </tr>\n",
       "    <tr>\n",
       "      <th>2017-08-17 04:03:00</th>\n",
       "      <td>300.000000</td>\n",
       "      <td>300.000000</td>\n",
       "      <td>300.000000</td>\n",
       "      <td>300.000000</td>\n",
       "      <td>0.31389</td>\n",
       "      <td>94.167000</td>\n",
       "      <td>3</td>\n",
       "      <td>0.00000</td>\n",
       "      <td>0.000000</td>\n",
       "    </tr>\n",
       "    <tr>\n",
       "      <th>2017-08-17 04:04:00</th>\n",
       "      <td>301.130005</td>\n",
       "      <td>301.130005</td>\n",
       "      <td>301.130005</td>\n",
       "      <td>301.130005</td>\n",
       "      <td>0.23202</td>\n",
       "      <td>69.868179</td>\n",
       "      <td>1</td>\n",
       "      <td>0.23202</td>\n",
       "      <td>69.868179</td>\n",
       "    </tr>\n",
       "  </tbody>\n",
       "</table>\n",
       "</div>"
      ],
      "text/plain": [
       "                           open        high         low       close   volume  \\\n",
       "open_time                                                                      \n",
       "2017-08-17 04:00:00  301.130005  301.130005  301.130005  301.130005  0.42643   \n",
       "2017-08-17 04:01:00  301.130005  301.130005  301.130005  301.130005  2.75787   \n",
       "2017-08-17 04:02:00  300.000000  300.000000  300.000000  300.000000  0.09930   \n",
       "2017-08-17 04:03:00  300.000000  300.000000  300.000000  300.000000  0.31389   \n",
       "2017-08-17 04:04:00  301.130005  301.130005  301.130005  301.130005  0.23202   \n",
       "\n",
       "                     quote_asset_volume  number_of_trades  \\\n",
       "open_time                                                   \n",
       "2017-08-17 04:00:00          128.410873                 2   \n",
       "2017-08-17 04:01:00          830.477417                 4   \n",
       "2017-08-17 04:02:00           29.790001                 2   \n",
       "2017-08-17 04:03:00           94.167000                 3   \n",
       "2017-08-17 04:04:00           69.868179                 1   \n",
       "\n",
       "                     taker_buy_base_asset_volume  taker_buy_quote_asset_volume  \n",
       "open_time                                                                       \n",
       "2017-08-17 04:00:00                      0.42643                    128.410873  \n",
       "2017-08-17 04:01:00                      2.75787                    830.477417  \n",
       "2017-08-17 04:02:00                      0.09930                     29.790001  \n",
       "2017-08-17 04:03:00                      0.00000                      0.000000  \n",
       "2017-08-17 04:04:00                      0.23202                     69.868179  "
      ]
     },
     "execution_count": 9,
     "metadata": {},
     "output_type": "execute_result"
    }
   ],
   "source": [
    "eth.head()"
   ]
  },
  {
   "cell_type": "markdown",
   "metadata": {},
   "source": [
    "### Cleaning data"
   ]
  },
  {
   "cell_type": "code",
   "execution_count": 10,
   "metadata": {},
   "outputs": [
    {
     "data": {
      "text/plain": [
       "(2753105, 9)"
      ]
     },
     "execution_count": 10,
     "metadata": {},
     "output_type": "execute_result"
    }
   ],
   "source": [
    "eth.shape"
   ]
  },
  {
   "cell_type": "code",
   "execution_count": 11,
   "metadata": {},
   "outputs": [],
   "source": [
    "eth = eth.drop(columns = ['quote_asset_volume',\n",
    "       'number_of_trades', 'taker_buy_base_asset_volume',\n",
    "       'taker_buy_quote_asset_volume'])"
   ]
  },
  {
   "cell_type": "code",
   "execution_count": 12,
   "metadata": {},
   "outputs": [
    {
     "data": {
      "text/html": [
       "<div>\n",
       "<style scoped>\n",
       "    .dataframe tbody tr th:only-of-type {\n",
       "        vertical-align: middle;\n",
       "    }\n",
       "\n",
       "    .dataframe tbody tr th {\n",
       "        vertical-align: top;\n",
       "    }\n",
       "\n",
       "    .dataframe thead th {\n",
       "        text-align: right;\n",
       "    }\n",
       "</style>\n",
       "<table border=\"1\" class=\"dataframe\">\n",
       "  <thead>\n",
       "    <tr style=\"text-align: right;\">\n",
       "      <th></th>\n",
       "      <th>open</th>\n",
       "      <th>high</th>\n",
       "      <th>low</th>\n",
       "      <th>close</th>\n",
       "      <th>volume</th>\n",
       "    </tr>\n",
       "    <tr>\n",
       "      <th>open_time</th>\n",
       "      <th></th>\n",
       "      <th></th>\n",
       "      <th></th>\n",
       "      <th></th>\n",
       "      <th></th>\n",
       "    </tr>\n",
       "  </thead>\n",
       "  <tbody>\n",
       "    <tr>\n",
       "      <th>2017-08-17 04:00:00</th>\n",
       "      <td>301.130005</td>\n",
       "      <td>301.130005</td>\n",
       "      <td>301.130005</td>\n",
       "      <td>301.130005</td>\n",
       "      <td>0.42643</td>\n",
       "    </tr>\n",
       "  </tbody>\n",
       "</table>\n",
       "</div>"
      ],
      "text/plain": [
       "                           open        high         low       close   volume\n",
       "open_time                                                                   \n",
       "2017-08-17 04:00:00  301.130005  301.130005  301.130005  301.130005  0.42643"
      ]
     },
     "execution_count": 12,
     "metadata": {},
     "output_type": "execute_result"
    }
   ],
   "source": [
    "eth.head(1)"
   ]
  },
  {
   "cell_type": "code",
   "execution_count": 13,
   "metadata": {},
   "outputs": [
    {
     "data": {
      "text/html": [
       "<div>\n",
       "<style scoped>\n",
       "    .dataframe tbody tr th:only-of-type {\n",
       "        vertical-align: middle;\n",
       "    }\n",
       "\n",
       "    .dataframe tbody tr th {\n",
       "        vertical-align: top;\n",
       "    }\n",
       "\n",
       "    .dataframe thead th {\n",
       "        text-align: right;\n",
       "    }\n",
       "</style>\n",
       "<table border=\"1\" class=\"dataframe\">\n",
       "  <thead>\n",
       "    <tr style=\"text-align: right;\">\n",
       "      <th></th>\n",
       "      <th>open</th>\n",
       "      <th>high</th>\n",
       "      <th>low</th>\n",
       "      <th>close</th>\n",
       "      <th>volume</th>\n",
       "    </tr>\n",
       "    <tr>\n",
       "      <th>open_time</th>\n",
       "      <th></th>\n",
       "      <th></th>\n",
       "      <th></th>\n",
       "      <th></th>\n",
       "      <th></th>\n",
       "    </tr>\n",
       "  </thead>\n",
       "  <tbody>\n",
       "    <tr>\n",
       "      <th>2022-11-16 22:43:00</th>\n",
       "      <td>1205.150024</td>\n",
       "      <td>1206.5</td>\n",
       "      <td>1205.150024</td>\n",
       "      <td>1206.5</td>\n",
       "      <td>143.3013</td>\n",
       "    </tr>\n",
       "  </tbody>\n",
       "</table>\n",
       "</div>"
      ],
      "text/plain": [
       "                            open    high          low   close    volume\n",
       "open_time                                                              \n",
       "2022-11-16 22:43:00  1205.150024  1206.5  1205.150024  1206.5  143.3013"
      ]
     },
     "execution_count": 13,
     "metadata": {},
     "output_type": "execute_result"
    }
   ],
   "source": [
    "eth.tail(1)"
   ]
  },
  {
   "cell_type": "code",
   "execution_count": 14,
   "metadata": {},
   "outputs": [
    {
     "data": {
      "text/plain": [
       "open      0\n",
       "high      0\n",
       "low       0\n",
       "close     0\n",
       "volume    0\n",
       "dtype: int64"
      ]
     },
     "execution_count": 14,
     "metadata": {},
     "output_type": "execute_result"
    }
   ],
   "source": [
    "eth.isnull().sum()"
   ]
  },
  {
   "cell_type": "code",
   "execution_count": 15,
   "metadata": {},
   "outputs": [
    {
     "data": {
      "text/html": [
       "<div>\n",
       "<style scoped>\n",
       "    .dataframe tbody tr th:only-of-type {\n",
       "        vertical-align: middle;\n",
       "    }\n",
       "\n",
       "    .dataframe tbody tr th {\n",
       "        vertical-align: top;\n",
       "    }\n",
       "\n",
       "    .dataframe thead th {\n",
       "        text-align: right;\n",
       "    }\n",
       "</style>\n",
       "<table border=\"1\" class=\"dataframe\">\n",
       "  <thead>\n",
       "    <tr style=\"text-align: right;\">\n",
       "      <th></th>\n",
       "      <th>open</th>\n",
       "      <th>high</th>\n",
       "      <th>low</th>\n",
       "      <th>close</th>\n",
       "      <th>volume</th>\n",
       "    </tr>\n",
       "  </thead>\n",
       "  <tbody>\n",
       "    <tr>\n",
       "      <th>open</th>\n",
       "      <td>1.000000</td>\n",
       "      <td>0.999999</td>\n",
       "      <td>0.999999</td>\n",
       "      <td>0.999998</td>\n",
       "      <td>0.067169</td>\n",
       "    </tr>\n",
       "    <tr>\n",
       "      <th>high</th>\n",
       "      <td>0.999999</td>\n",
       "      <td>1.000000</td>\n",
       "      <td>0.999998</td>\n",
       "      <td>0.999999</td>\n",
       "      <td>0.067632</td>\n",
       "    </tr>\n",
       "    <tr>\n",
       "      <th>low</th>\n",
       "      <td>0.999999</td>\n",
       "      <td>0.999998</td>\n",
       "      <td>1.000000</td>\n",
       "      <td>0.999999</td>\n",
       "      <td>0.066665</td>\n",
       "    </tr>\n",
       "    <tr>\n",
       "      <th>close</th>\n",
       "      <td>0.999998</td>\n",
       "      <td>0.999999</td>\n",
       "      <td>0.999999</td>\n",
       "      <td>1.000000</td>\n",
       "      <td>0.067143</td>\n",
       "    </tr>\n",
       "    <tr>\n",
       "      <th>volume</th>\n",
       "      <td>0.067169</td>\n",
       "      <td>0.067632</td>\n",
       "      <td>0.066665</td>\n",
       "      <td>0.067143</td>\n",
       "      <td>1.000000</td>\n",
       "    </tr>\n",
       "  </tbody>\n",
       "</table>\n",
       "</div>"
      ],
      "text/plain": [
       "            open      high       low     close    volume\n",
       "open    1.000000  0.999999  0.999999  0.999998  0.067169\n",
       "high    0.999999  1.000000  0.999998  0.999999  0.067632\n",
       "low     0.999999  0.999998  1.000000  0.999999  0.066665\n",
       "close   0.999998  0.999999  0.999999  1.000000  0.067143\n",
       "volume  0.067169  0.067632  0.066665  0.067143  1.000000"
      ]
     },
     "execution_count": 15,
     "metadata": {},
     "output_type": "execute_result"
    }
   ],
   "source": [
    "eth.corr()"
   ]
  },
  {
   "cell_type": "code",
   "execution_count": 16,
   "metadata": {},
   "outputs": [
    {
     "data": {
      "text/plain": [
       "True"
      ]
     },
     "execution_count": 16,
     "metadata": {},
     "output_type": "execute_result"
    }
   ],
   "source": [
    "len(np.unique(eth.index)) == eth.shape[0]"
   ]
  },
  {
   "cell_type": "code",
   "execution_count": 17,
   "metadata": {},
   "outputs": [
    {
     "data": {
      "text/plain": [
       "82.03"
      ]
     },
     "execution_count": 17,
     "metadata": {},
     "output_type": "execute_result"
    }
   ],
   "source": [
    "eth[\"close\"].min()"
   ]
  },
  {
   "cell_type": "code",
   "execution_count": 18,
   "metadata": {},
   "outputs": [
    {
     "data": {
      "text/plain": [
       "4865.22"
      ]
     },
     "execution_count": 18,
     "metadata": {},
     "output_type": "execute_result"
    }
   ],
   "source": [
    "eth[\"close\"].max()"
   ]
  },
  {
   "cell_type": "code",
   "execution_count": 19,
   "metadata": {},
   "outputs": [],
   "source": [
    "eth[\"high-low\"] = eth['high'] - eth[\"low\"]"
   ]
  },
  {
   "cell_type": "code",
   "execution_count": 20,
   "metadata": {},
   "outputs": [
    {
     "data": {
      "text/plain": [
       "open_time\n",
       "2017-08-17 04:00:00    0.000000\n",
       "2017-08-17 04:01:00    0.000000\n",
       "2017-08-17 04:02:00    0.000000\n",
       "2017-08-17 04:03:00    0.000000\n",
       "2017-08-17 04:04:00    0.000000\n",
       "                         ...   \n",
       "2022-11-16 22:39:00    0.440063\n",
       "2022-11-16 22:40:00    0.429932\n",
       "2022-11-16 22:41:00    0.819946\n",
       "2022-11-16 22:42:00    0.910034\n",
       "2022-11-16 22:43:00    1.349976\n",
       "Name: high-low, Length: 2753105, dtype: float32"
      ]
     },
     "execution_count": 20,
     "metadata": {},
     "output_type": "execute_result"
    }
   ],
   "source": [
    "eth[\"high-low\"]"
   ]
  },
  {
   "cell_type": "code",
   "execution_count": 21,
   "metadata": {},
   "outputs": [],
   "source": [
    "eth[\"open-close\"]=eth[\"open\"]- eth[\"close\"]"
   ]
  },
  {
   "cell_type": "code",
   "execution_count": 22,
   "metadata": {},
   "outputs": [
    {
     "data": {
      "text/plain": [
       "open_time\n",
       "2017-08-17 04:00:00    0.000000\n",
       "2017-08-17 04:01:00    0.000000\n",
       "2017-08-17 04:02:00    0.000000\n",
       "2017-08-17 04:03:00    0.000000\n",
       "2017-08-17 04:04:00    0.000000\n",
       "                         ...   \n",
       "2022-11-16 22:39:00   -0.420044\n",
       "2022-11-16 22:40:00   -0.209961\n",
       "2022-11-16 22:41:00    0.809937\n",
       "2022-11-16 22:42:00    0.390015\n",
       "2022-11-16 22:43:00   -1.349976\n",
       "Name: open-close, Length: 2753105, dtype: float32"
      ]
     },
     "execution_count": 22,
     "metadata": {},
     "output_type": "execute_result"
    }
   ],
   "source": [
    "eth[\"open-close\"]"
   ]
  },
  {
   "cell_type": "markdown",
   "metadata": {},
   "source": [
    "# Preprocess data"
   ]
  },
  {
   "cell_type": "markdown",
   "metadata": {},
   "source": [
    "## Scaling "
   ]
  },
  {
   "cell_type": "code",
   "execution_count": 23,
   "metadata": {},
   "outputs": [],
   "source": [
    "from sklearn.preprocessing import MinMaxScaler\n",
    "from sklearn.model_selection import train_test_split"
   ]
  },
  {
   "cell_type": "code",
   "execution_count": 24,
   "metadata": {},
   "outputs": [],
   "source": [
    "X = eth[[\"high\", \"low\", \"volume\", \"open\", \"close\"]]\n",
    "y = eth[\"close\"]"
   ]
  },
  {
   "cell_type": "code",
   "execution_count": 25,
   "metadata": {},
   "outputs": [],
   "source": [
    "X_train, X_test, y_train, y_test = train_test_split(X,y, test_size=0.3)\n"
   ]
  },
  {
   "cell_type": "code",
   "execution_count": 26,
   "metadata": {},
   "outputs": [],
   "source": [
    "scaler = MinMaxScaler()\n",
    "\n",
    "X_scaled = scaler.fit_transform(X_train)"
   ]
  },
  {
   "cell_type": "markdown",
   "metadata": {},
   "source": [
    "# TWEETER DATASET"
   ]
  },
  {
   "cell_type": "markdown",
   "metadata": {},
   "source": [
    "## Loadind the dataset"
   ]
  },
  {
   "cell_type": "code",
   "execution_count": 27,
   "metadata": {},
   "outputs": [
    {
     "name": "stderr",
     "output_type": "stream",
     "text": [
      "/var/folders/7b/bwcmp7pn36529ggfrkdpjyfw0000gn/T/ipykernel_11946/1462444772.py:1: DtypeWarning: Columns (1,2,3,4,5,6,7,8,9,10,11,12) have mixed types. Specify dtype option on import or set low_memory=False.\n",
      "  tweeter = pd.read_csv(\"../raw_data/Bitcoin_tweets.csv\")\n"
     ]
    }
   ],
   "source": [
    "tweeter = pd.read_csv(\"../raw_data/Bitcoin_tweets.csv\")"
   ]
  },
  {
   "cell_type": "code",
   "execution_count": 28,
   "metadata": {},
   "outputs": [
    {
     "data": {
      "text/html": [
       "<div>\n",
       "<style scoped>\n",
       "    .dataframe tbody tr th:only-of-type {\n",
       "        vertical-align: middle;\n",
       "    }\n",
       "\n",
       "    .dataframe tbody tr th {\n",
       "        vertical-align: top;\n",
       "    }\n",
       "\n",
       "    .dataframe thead th {\n",
       "        text-align: right;\n",
       "    }\n",
       "</style>\n",
       "<table border=\"1\" class=\"dataframe\">\n",
       "  <thead>\n",
       "    <tr style=\"text-align: right;\">\n",
       "      <th></th>\n",
       "      <th>user_name</th>\n",
       "      <th>user_location</th>\n",
       "      <th>user_description</th>\n",
       "      <th>user_created</th>\n",
       "      <th>user_followers</th>\n",
       "      <th>user_friends</th>\n",
       "      <th>user_favourites</th>\n",
       "      <th>user_verified</th>\n",
       "      <th>date</th>\n",
       "      <th>text</th>\n",
       "      <th>hashtags</th>\n",
       "      <th>source</th>\n",
       "      <th>is_retweet</th>\n",
       "    </tr>\n",
       "  </thead>\n",
       "  <tbody>\n",
       "    <tr>\n",
       "      <th>0</th>\n",
       "      <td>DeSota Wilson</td>\n",
       "      <td>Atlanta, GA</td>\n",
       "      <td>Biz Consultant, real estate, fintech, startups...</td>\n",
       "      <td>2009-04-26 20:05:09</td>\n",
       "      <td>8534.0</td>\n",
       "      <td>7605</td>\n",
       "      <td>4838</td>\n",
       "      <td>False</td>\n",
       "      <td>2021-02-10 23:59:04</td>\n",
       "      <td>Blue Ridge Bank shares halted by NYSE after #b...</td>\n",
       "      <td>['bitcoin']</td>\n",
       "      <td>Twitter Web App</td>\n",
       "      <td>False</td>\n",
       "    </tr>\n",
       "    <tr>\n",
       "      <th>1</th>\n",
       "      <td>CryptoND</td>\n",
       "      <td>NaN</td>\n",
       "      <td>😎 BITCOINLIVE is a Dutch platform aimed at inf...</td>\n",
       "      <td>2019-10-17 20:12:10</td>\n",
       "      <td>6769.0</td>\n",
       "      <td>1532</td>\n",
       "      <td>25483</td>\n",
       "      <td>False</td>\n",
       "      <td>2021-02-10 23:58:48</td>\n",
       "      <td>😎 Today, that's this #Thursday, we will do a \"...</td>\n",
       "      <td>['Thursday', 'Btc', 'wallet', 'security']</td>\n",
       "      <td>Twitter for Android</td>\n",
       "      <td>False</td>\n",
       "    </tr>\n",
       "    <tr>\n",
       "      <th>2</th>\n",
       "      <td>Tdlmatias</td>\n",
       "      <td>London, England</td>\n",
       "      <td>IM Academy : The best #forex, #SelfEducation, ...</td>\n",
       "      <td>2014-11-10 10:50:37</td>\n",
       "      <td>128.0</td>\n",
       "      <td>332</td>\n",
       "      <td>924</td>\n",
       "      <td>False</td>\n",
       "      <td>2021-02-10 23:54:48</td>\n",
       "      <td>Guys evening, I have read this article about B...</td>\n",
       "      <td>NaN</td>\n",
       "      <td>Twitter Web App</td>\n",
       "      <td>False</td>\n",
       "    </tr>\n",
       "    <tr>\n",
       "      <th>3</th>\n",
       "      <td>Crypto is the future</td>\n",
       "      <td>NaN</td>\n",
       "      <td>I will post a lot of buying signals for BTC tr...</td>\n",
       "      <td>2019-09-28 16:48:12</td>\n",
       "      <td>625.0</td>\n",
       "      <td>129</td>\n",
       "      <td>14</td>\n",
       "      <td>False</td>\n",
       "      <td>2021-02-10 23:54:33</td>\n",
       "      <td>$BTC A big chance in a billion! Price: \\487264...</td>\n",
       "      <td>['Bitcoin', 'FX', 'BTC', 'crypto']</td>\n",
       "      <td>dlvr.it</td>\n",
       "      <td>False</td>\n",
       "    </tr>\n",
       "    <tr>\n",
       "      <th>4</th>\n",
       "      <td>Alex Kirchmaier 🇦🇹🇸🇪 #FactsSuperspreader</td>\n",
       "      <td>Europa</td>\n",
       "      <td>Co-founder @RENJERJerky | Forbes 30Under30 | I...</td>\n",
       "      <td>2016-02-03 13:15:55</td>\n",
       "      <td>1249.0</td>\n",
       "      <td>1472</td>\n",
       "      <td>10482</td>\n",
       "      <td>False</td>\n",
       "      <td>2021-02-10 23:54:06</td>\n",
       "      <td>This network is secured by 9 508 nodes as of t...</td>\n",
       "      <td>['BTC']</td>\n",
       "      <td>Twitter Web App</td>\n",
       "      <td>False</td>\n",
       "    </tr>\n",
       "  </tbody>\n",
       "</table>\n",
       "</div>"
      ],
      "text/plain": [
       "                                  user_name    user_location  \\\n",
       "0                             DeSota Wilson      Atlanta, GA   \n",
       "1                                  CryptoND              NaN   \n",
       "2                                 Tdlmatias  London, England   \n",
       "3                      Crypto is the future              NaN   \n",
       "4  Alex Kirchmaier 🇦🇹🇸🇪 #FactsSuperspreader           Europa   \n",
       "\n",
       "                                    user_description         user_created  \\\n",
       "0  Biz Consultant, real estate, fintech, startups...  2009-04-26 20:05:09   \n",
       "1  😎 BITCOINLIVE is a Dutch platform aimed at inf...  2019-10-17 20:12:10   \n",
       "2  IM Academy : The best #forex, #SelfEducation, ...  2014-11-10 10:50:37   \n",
       "3  I will post a lot of buying signals for BTC tr...  2019-09-28 16:48:12   \n",
       "4  Co-founder @RENJERJerky | Forbes 30Under30 | I...  2016-02-03 13:15:55   \n",
       "\n",
       "  user_followers user_friends user_favourites user_verified  \\\n",
       "0         8534.0         7605            4838         False   \n",
       "1         6769.0         1532           25483         False   \n",
       "2          128.0          332             924         False   \n",
       "3          625.0          129              14         False   \n",
       "4         1249.0         1472           10482         False   \n",
       "\n",
       "                  date                                               text  \\\n",
       "0  2021-02-10 23:59:04  Blue Ridge Bank shares halted by NYSE after #b...   \n",
       "1  2021-02-10 23:58:48  😎 Today, that's this #Thursday, we will do a \"...   \n",
       "2  2021-02-10 23:54:48  Guys evening, I have read this article about B...   \n",
       "3  2021-02-10 23:54:33  $BTC A big chance in a billion! Price: \\487264...   \n",
       "4  2021-02-10 23:54:06  This network is secured by 9 508 nodes as of t...   \n",
       "\n",
       "                                    hashtags               source is_retweet  \n",
       "0                                ['bitcoin']      Twitter Web App      False  \n",
       "1  ['Thursday', 'Btc', 'wallet', 'security']  Twitter for Android      False  \n",
       "2                                        NaN      Twitter Web App      False  \n",
       "3         ['Bitcoin', 'FX', 'BTC', 'crypto']              dlvr.it      False  \n",
       "4                                    ['BTC']      Twitter Web App      False  "
      ]
     },
     "execution_count": 28,
     "metadata": {},
     "output_type": "execute_result"
    }
   ],
   "source": [
    "tweeter.head()"
   ]
  },
  {
   "cell_type": "markdown",
   "metadata": {},
   "source": [
    "## Cleanning the dataset"
   ]
  },
  {
   "cell_type": "code",
   "execution_count": 29,
   "metadata": {},
   "outputs": [],
   "source": [
    "tweeter_verf = tweeter[tweeter[\"user_verified\"]==True]"
   ]
  },
  {
   "cell_type": "code",
   "execution_count": 30,
   "metadata": {},
   "outputs": [
    {
     "data": {
      "text/html": [
       "<div>\n",
       "<style scoped>\n",
       "    .dataframe tbody tr th:only-of-type {\n",
       "        vertical-align: middle;\n",
       "    }\n",
       "\n",
       "    .dataframe tbody tr th {\n",
       "        vertical-align: top;\n",
       "    }\n",
       "\n",
       "    .dataframe thead th {\n",
       "        text-align: right;\n",
       "    }\n",
       "</style>\n",
       "<table border=\"1\" class=\"dataframe\">\n",
       "  <thead>\n",
       "    <tr style=\"text-align: right;\">\n",
       "      <th></th>\n",
       "      <th>user_name</th>\n",
       "      <th>user_location</th>\n",
       "      <th>user_description</th>\n",
       "      <th>user_created</th>\n",
       "      <th>user_followers</th>\n",
       "      <th>user_friends</th>\n",
       "      <th>user_favourites</th>\n",
       "      <th>user_verified</th>\n",
       "      <th>date</th>\n",
       "      <th>text</th>\n",
       "      <th>hashtags</th>\n",
       "      <th>source</th>\n",
       "      <th>is_retweet</th>\n",
       "    </tr>\n",
       "  </thead>\n",
       "  <tbody>\n",
       "    <tr>\n",
       "      <th>65906</th>\n",
       "      <td>Daily Express</td>\n",
       "      <td>London</td>\n",
       "      <td>http://t.co/xNo7rgb8JJ - Home of the Daily and...</td>\n",
       "      <td>2008-12-05 12:05:48</td>\n",
       "      <td>879107.0</td>\n",
       "      <td>714.0</td>\n",
       "      <td>91.0</td>\n",
       "      <td>True</td>\n",
       "      <td>2021-04-07 12:03:04</td>\n",
       "      <td>Bitcoin price crash: Cryptocurrency plunges in...</td>\n",
       "      <td>['Bitcoin', 'bitcoin', 'btc', 'Crypto']</td>\n",
       "      <td>TweetDeck</td>\n",
       "      <td>False</td>\n",
       "    </tr>\n",
       "    <tr>\n",
       "      <th>66378</th>\n",
       "      <td>BTCC</td>\n",
       "      <td>NaN</td>\n",
       "      <td>BTCC is the world-leading cryptocurrency deriv...</td>\n",
       "      <td>2014-02-11 11:35:46</td>\n",
       "      <td>81172.0</td>\n",
       "      <td>277.0</td>\n",
       "      <td>2830.0</td>\n",
       "      <td>True</td>\n",
       "      <td>2021-04-07 10:03:34</td>\n",
       "      <td>The #BTC is stuck inside a large range between...</td>\n",
       "      <td>['BTC', 'Bitcoin', 'crypto']</td>\n",
       "      <td>Twitter Web App</td>\n",
       "      <td>False</td>\n",
       "    </tr>\n",
       "    <tr>\n",
       "      <th>66447</th>\n",
       "      <td>BtcTurk | PRO</td>\n",
       "      <td>NaN</td>\n",
       "      <td>Join over 3 million others from 7 continents. ...</td>\n",
       "      <td>2013-07-01 10:10:48</td>\n",
       "      <td>90749.0</td>\n",
       "      <td>10.0</td>\n",
       "      <td>1700.0</td>\n",
       "      <td>True</td>\n",
       "      <td>2021-04-07 09:42:48</td>\n",
       "      <td>Price data of #Bitcoin #BTC pairs on #btcturkp...</td>\n",
       "      <td>['Bitcoin', 'BTC', 'btcturkpro']</td>\n",
       "      <td>Twitter Web App</td>\n",
       "      <td>False</td>\n",
       "    </tr>\n",
       "    <tr>\n",
       "      <th>67137</th>\n",
       "      <td>LatestLY</td>\n",
       "      <td>Mumbai, India</td>\n",
       "      <td>https://t.co/U4rHOvEUQR focuses on the What, W...</td>\n",
       "      <td>2017-02-07 05:41:28</td>\n",
       "      <td>69095.0</td>\n",
       "      <td>344.0</td>\n",
       "      <td>124.0</td>\n",
       "      <td>True</td>\n",
       "      <td>2021-04-07 05:37:45</td>\n",
       "      <td>#WhatsApp rival #Signal reportedly testing pee...</td>\n",
       "      <td>['WhatsApp', 'Signal', 'Cryptocurrency']</td>\n",
       "      <td>TweetDeck</td>\n",
       "      <td>False</td>\n",
       "    </tr>\n",
       "    <tr>\n",
       "      <th>67248</th>\n",
       "      <td>Herbert R. Sim</td>\n",
       "      <td>London, England</td>\n",
       "      <td>PhD(c) #Economics #GeoPolitics #AI, MBA  |  VC...</td>\n",
       "      <td>2009-08-14 04:44:14</td>\n",
       "      <td>147300.0</td>\n",
       "      <td>142305.0</td>\n",
       "      <td>16909.0</td>\n",
       "      <td>True</td>\n",
       "      <td>2021-04-07 04:44:25</td>\n",
       "      <td>When supply is more than demand, what happens?...</td>\n",
       "      <td>['Bitcoin']</td>\n",
       "      <td>Twitter for Android</td>\n",
       "      <td>False</td>\n",
       "    </tr>\n",
       "  </tbody>\n",
       "</table>\n",
       "</div>"
      ],
      "text/plain": [
       "            user_name    user_location  \\\n",
       "65906   Daily Express           London   \n",
       "66378            BTCC              NaN   \n",
       "66447   BtcTurk | PRO              NaN   \n",
       "67137        LatestLY    Mumbai, India   \n",
       "67248  Herbert R. Sim  London, England   \n",
       "\n",
       "                                        user_description         user_created  \\\n",
       "65906  http://t.co/xNo7rgb8JJ - Home of the Daily and...  2008-12-05 12:05:48   \n",
       "66378  BTCC is the world-leading cryptocurrency deriv...  2014-02-11 11:35:46   \n",
       "66447  Join over 3 million others from 7 continents. ...  2013-07-01 10:10:48   \n",
       "67137  https://t.co/U4rHOvEUQR focuses on the What, W...  2017-02-07 05:41:28   \n",
       "67248  PhD(c) #Economics #GeoPolitics #AI, MBA  |  VC...  2009-08-14 04:44:14   \n",
       "\n",
       "      user_followers user_friends user_favourites user_verified  \\\n",
       "65906       879107.0        714.0            91.0          True   \n",
       "66378        81172.0        277.0          2830.0          True   \n",
       "66447        90749.0         10.0          1700.0          True   \n",
       "67137        69095.0        344.0           124.0          True   \n",
       "67248       147300.0     142305.0         16909.0          True   \n",
       "\n",
       "                      date                                               text  \\\n",
       "65906  2021-04-07 12:03:04  Bitcoin price crash: Cryptocurrency plunges in...   \n",
       "66378  2021-04-07 10:03:34  The #BTC is stuck inside a large range between...   \n",
       "66447  2021-04-07 09:42:48  Price data of #Bitcoin #BTC pairs on #btcturkp...   \n",
       "67137  2021-04-07 05:37:45  #WhatsApp rival #Signal reportedly testing pee...   \n",
       "67248  2021-04-07 04:44:25  When supply is more than demand, what happens?...   \n",
       "\n",
       "                                       hashtags               source  \\\n",
       "65906   ['Bitcoin', 'bitcoin', 'btc', 'Crypto']            TweetDeck   \n",
       "66378              ['BTC', 'Bitcoin', 'crypto']      Twitter Web App   \n",
       "66447          ['Bitcoin', 'BTC', 'btcturkpro']      Twitter Web App   \n",
       "67137  ['WhatsApp', 'Signal', 'Cryptocurrency']            TweetDeck   \n",
       "67248                               ['Bitcoin']  Twitter for Android   \n",
       "\n",
       "      is_retweet  \n",
       "65906      False  \n",
       "66378      False  \n",
       "66447      False  \n",
       "67137      False  \n",
       "67248      False  "
      ]
     },
     "execution_count": 30,
     "metadata": {},
     "output_type": "execute_result"
    }
   ],
   "source": [
    "tweeter_verf.head()"
   ]
  },
  {
   "cell_type": "code",
   "execution_count": 31,
   "metadata": {},
   "outputs": [
    {
     "data": {
      "text/plain": [
       "(0, 13)"
      ]
     },
     "execution_count": 31,
     "metadata": {},
     "output_type": "execute_result"
    }
   ],
   "source": [
    "is_retweed = tweeter_verf[tweeter_verf[\"is_retweet\"]==True]\n",
    "is_retweed.shape"
   ]
  },
  {
   "cell_type": "code",
   "execution_count": 32,
   "metadata": {},
   "outputs": [],
   "source": [
    "tweets = tweeter_verf[[\"user_name\", \"text\", \"date\"]]"
   ]
  },
  {
   "cell_type": "code",
   "execution_count": 33,
   "metadata": {},
   "outputs": [
    {
     "data": {
      "text/html": [
       "<div>\n",
       "<style scoped>\n",
       "    .dataframe tbody tr th:only-of-type {\n",
       "        vertical-align: middle;\n",
       "    }\n",
       "\n",
       "    .dataframe tbody tr th {\n",
       "        vertical-align: top;\n",
       "    }\n",
       "\n",
       "    .dataframe thead th {\n",
       "        text-align: right;\n",
       "    }\n",
       "</style>\n",
       "<table border=\"1\" class=\"dataframe\">\n",
       "  <thead>\n",
       "    <tr style=\"text-align: right;\">\n",
       "      <th></th>\n",
       "      <th>index</th>\n",
       "      <th>user_name</th>\n",
       "      <th>text</th>\n",
       "      <th>date</th>\n",
       "    </tr>\n",
       "  </thead>\n",
       "  <tbody>\n",
       "    <tr>\n",
       "      <th>0</th>\n",
       "      <td>65906</td>\n",
       "      <td>Daily Express</td>\n",
       "      <td>Bitcoin price crash: Cryptocurrency plunges in...</td>\n",
       "      <td>2021-04-07 12:03:04</td>\n",
       "    </tr>\n",
       "    <tr>\n",
       "      <th>1</th>\n",
       "      <td>66378</td>\n",
       "      <td>BTCC</td>\n",
       "      <td>The #BTC is stuck inside a large range between...</td>\n",
       "      <td>2021-04-07 10:03:34</td>\n",
       "    </tr>\n",
       "    <tr>\n",
       "      <th>2</th>\n",
       "      <td>66447</td>\n",
       "      <td>BtcTurk | PRO</td>\n",
       "      <td>Price data of #Bitcoin #BTC pairs on #btcturkp...</td>\n",
       "      <td>2021-04-07 09:42:48</td>\n",
       "    </tr>\n",
       "    <tr>\n",
       "      <th>3</th>\n",
       "      <td>67137</td>\n",
       "      <td>LatestLY</td>\n",
       "      <td>#WhatsApp rival #Signal reportedly testing pee...</td>\n",
       "      <td>2021-04-07 05:37:45</td>\n",
       "    </tr>\n",
       "    <tr>\n",
       "      <th>4</th>\n",
       "      <td>67248</td>\n",
       "      <td>Herbert R. Sim</td>\n",
       "      <td>When supply is more than demand, what happens?...</td>\n",
       "      <td>2021-04-07 04:44:25</td>\n",
       "    </tr>\n",
       "    <tr>\n",
       "      <th>...</th>\n",
       "      <td>...</td>\n",
       "      <td>...</td>\n",
       "      <td>...</td>\n",
       "      <td>...</td>\n",
       "    </tr>\n",
       "    <tr>\n",
       "      <th>24665</th>\n",
       "      <td>4325191</td>\n",
       "      <td>DustyBC Crypto</td>\n",
       "      <td>Do you think #Bitcoin will go lower than $17k ...</td>\n",
       "      <td>2022-10-11 17:55:00</td>\n",
       "    </tr>\n",
       "    <tr>\n",
       "      <th>24666</th>\n",
       "      <td>4325355</td>\n",
       "      <td>Jeremy Gardner</td>\n",
       "      <td>Nothing warms the soul like a crypto conferenc...</td>\n",
       "      <td>2022-10-11 17:47:53</td>\n",
       "    </tr>\n",
       "    <tr>\n",
       "      <th>24667</th>\n",
       "      <td>57409629</td>\n",
       "      <td>Whale Coin Talk</td>\n",
       "      <td>Join us tomorrow 11/21 with @VRYNT_ at 12 PM E...</td>\n",
       "      <td>2022-11-20 19:48:47</td>\n",
       "    </tr>\n",
       "    <tr>\n",
       "      <th>24668</th>\n",
       "      <td>57410966</td>\n",
       "      <td>Bitcoin News</td>\n",
       "      <td>One of the bets made on the slot was destined ...</td>\n",
       "      <td>2022-11-20 21:31:49</td>\n",
       "    </tr>\n",
       "    <tr>\n",
       "      <th>24669</th>\n",
       "      <td>57411030</td>\n",
       "      <td>David Choi</td>\n",
       "      <td>@dergigi Great thread @dergigi. I think folks ...</td>\n",
       "      <td>2022-11-20 21:20:24</td>\n",
       "    </tr>\n",
       "  </tbody>\n",
       "</table>\n",
       "<p>24670 rows × 4 columns</p>\n",
       "</div>"
      ],
      "text/plain": [
       "          index        user_name  \\\n",
       "0         65906    Daily Express   \n",
       "1         66378             BTCC   \n",
       "2         66447    BtcTurk | PRO   \n",
       "3         67137         LatestLY   \n",
       "4         67248   Herbert R. Sim   \n",
       "...         ...              ...   \n",
       "24665   4325191   DustyBC Crypto   \n",
       "24666   4325355   Jeremy Gardner   \n",
       "24667  57409629  Whale Coin Talk   \n",
       "24668  57410966     Bitcoin News   \n",
       "24669  57411030       David Choi   \n",
       "\n",
       "                                                    text                 date  \n",
       "0      Bitcoin price crash: Cryptocurrency plunges in...  2021-04-07 12:03:04  \n",
       "1      The #BTC is stuck inside a large range between...  2021-04-07 10:03:34  \n",
       "2      Price data of #Bitcoin #BTC pairs on #btcturkp...  2021-04-07 09:42:48  \n",
       "3      #WhatsApp rival #Signal reportedly testing pee...  2021-04-07 05:37:45  \n",
       "4      When supply is more than demand, what happens?...  2021-04-07 04:44:25  \n",
       "...                                                  ...                  ...  \n",
       "24665  Do you think #Bitcoin will go lower than $17k ...  2022-10-11 17:55:00  \n",
       "24666  Nothing warms the soul like a crypto conferenc...  2022-10-11 17:47:53  \n",
       "24667  Join us tomorrow 11/21 with @VRYNT_ at 12 PM E...  2022-11-20 19:48:47  \n",
       "24668  One of the bets made on the slot was destined ...  2022-11-20 21:31:49  \n",
       "24669  @dergigi Great thread @dergigi. I think folks ...  2022-11-20 21:20:24  \n",
       "\n",
       "[24670 rows x 4 columns]"
      ]
     },
     "execution_count": 33,
     "metadata": {},
     "output_type": "execute_result"
    }
   ],
   "source": [
    "tweets = tweets.reset_index()\n",
    "tweets"
   ]
  },
  {
   "cell_type": "markdown",
   "metadata": {},
   "source": [
    "### NLP"
   ]
  },
  {
   "cell_type": "code",
   "execution_count": 88,
   "metadata": {},
   "outputs": [],
   "source": [
    "from nltk.tokenize import word_tokenize\n",
    "from nltk.corpus import stopwords \n",
    "import string\n",
    "import unidecode\n",
    "from vaderSentiment.vaderSentiment import SentimentIntensityAnalyzer\n",
    "from tqdm import tqdm\n",
    "from nltk.stem.porter import *"
   ]
  },
  {
   "cell_type": "code",
   "execution_count": 38,
   "metadata": {},
   "outputs": [
    {
     "name": "stdout",
     "output_type": "stream",
     "text": [
      "hello world\n"
     ]
    }
   ],
   "source": [
    "def clean (text):\n",
    "    \n",
    "    for punctuation in string.punctuation:\n",
    "        text = text.replace(punctuation, ' ') # Remove Punctuation\n",
    "        \n",
    "    lowercased = text.lower() # Lower Case\n",
    "    \n",
    "    unaccented_string = unidecode.unidecode(lowercased) # remove accents\n",
    "    words = unaccented_string.split()\n",
    "    \n",
    "    #tokenized = word_tokenize(unaccented_string) # Tokenize\n",
    "    \n",
    "    words_only = [word for word in words if word.isalpha()] # Remove numbers\n",
    "    \n",
    "    stop_words = set(stopwords.words('english')) # Make stopword list\n",
    "    \n",
    "    without_stopwords = [word for word in words_only if not word in stop_words] # Remove Stop Words\n",
    "    word = [PorterStemmer().stem(w) for w in without_stopwords]\n",
    "    # print(words)\n",
    "\n",
    "    return \" \".join(word)\n",
    "text = \"Héllo 34 world!\"\n",
    "print(clean(text=text))"
   ]
  },
  {
   "cell_type": "code",
   "execution_count": 39,
   "metadata": {},
   "outputs": [],
   "source": [
    "tweets[\"clean_text\"]= tweets[\"text\"].apply(clean)"
   ]
  },
  {
   "cell_type": "code",
   "execution_count": 42,
   "metadata": {},
   "outputs": [],
   "source": [
    "def compute_vader_scores(tweets, label):\n",
    "    sid = SentimentIntensityAnalyzer()\n",
    "    idx = 0\n",
    "    for sentence in tweets[\"clean_text\"]:   \n",
    "        # print(sid.polarity_scores(sentence))\n",
    "        tweets.loc[idx,\"vader_neg\"] = sid.polarity_scores(sentence)[\"neg\"]\n",
    "        tweets.loc[idx,\"vader_neu\"] = sid.polarity_scores(sentence)[\"neu\"]\n",
    "        tweets.loc[idx,\"vader_pos\"] = sid.polarity_scores(sentence)[\"pos\"]\n",
    "        tweets.loc[idx,\"vader_comp\"] = sid.polarity_scores(sentence)[\"compound\"]\n",
    "        idx+=1\n",
    "    #tweets['cleantext2'] = tweets[label].apply(lambda x: unlist(x))\n",
    "    return tweets                             \n",
    "                                               "
   ]
  },
  {
   "cell_type": "code",
   "execution_count": 44,
   "metadata": {},
   "outputs": [],
   "source": [
    "tweets_2 = compute_vader_scores(tweets,'clean_text')"
   ]
  },
  {
   "cell_type": "code",
   "execution_count": 46,
   "metadata": {},
   "outputs": [
    {
     "data": {
      "text/html": [
       "<div>\n",
       "<style scoped>\n",
       "    .dataframe tbody tr th:only-of-type {\n",
       "        vertical-align: middle;\n",
       "    }\n",
       "\n",
       "    .dataframe tbody tr th {\n",
       "        vertical-align: top;\n",
       "    }\n",
       "\n",
       "    .dataframe thead th {\n",
       "        text-align: right;\n",
       "    }\n",
       "</style>\n",
       "<table border=\"1\" class=\"dataframe\">\n",
       "  <thead>\n",
       "    <tr style=\"text-align: right;\">\n",
       "      <th></th>\n",
       "      <th>index</th>\n",
       "      <th>user_name</th>\n",
       "      <th>text</th>\n",
       "      <th>date</th>\n",
       "      <th>clean_text</th>\n",
       "      <th>vader_neg</th>\n",
       "      <th>vader_neu</th>\n",
       "      <th>vader_pos</th>\n",
       "      <th>vader_comp</th>\n",
       "    </tr>\n",
       "  </thead>\n",
       "  <tbody>\n",
       "    <tr>\n",
       "      <th>0</th>\n",
       "      <td>65906</td>\n",
       "      <td>Daily Express</td>\n",
       "      <td>Bitcoin price crash: Cryptocurrency plunges in...</td>\n",
       "      <td>2021-04-07 12:03:04</td>\n",
       "      <td>bitcoin price crash cryptocurr plung valu drop...</td>\n",
       "      <td>0.286</td>\n",
       "      <td>0.714</td>\n",
       "      <td>0.000</td>\n",
       "      <td>-0.5859</td>\n",
       "    </tr>\n",
       "    <tr>\n",
       "      <th>1</th>\n",
       "      <td>66378</td>\n",
       "      <td>BTCC</td>\n",
       "      <td>The #BTC is stuck inside a large range between...</td>\n",
       "      <td>2021-04-07 10:03:34</td>\n",
       "      <td>btc stuck insid larg rang recent day bitcoin c...</td>\n",
       "      <td>0.167</td>\n",
       "      <td>0.833</td>\n",
       "      <td>0.000</td>\n",
       "      <td>-0.2500</td>\n",
       "    </tr>\n",
       "    <tr>\n",
       "      <th>2</th>\n",
       "      <td>66447</td>\n",
       "      <td>BtcTurk | PRO</td>\n",
       "      <td>Price data of #Bitcoin #BTC pairs on #btcturkp...</td>\n",
       "      <td>2021-04-07 09:42:48</td>\n",
       "      <td>price data bitcoin btc pair btcturkpro trade b...</td>\n",
       "      <td>0.000</td>\n",
       "      <td>1.000</td>\n",
       "      <td>0.000</td>\n",
       "      <td>0.0000</td>\n",
       "    </tr>\n",
       "    <tr>\n",
       "      <th>3</th>\n",
       "      <td>67137</td>\n",
       "      <td>LatestLY</td>\n",
       "      <td>#WhatsApp rival #Signal reportedly testing pee...</td>\n",
       "      <td>2021-04-07 05:37:45</td>\n",
       "      <td>whatsapp rival signal reportedli test peer pee...</td>\n",
       "      <td>0.000</td>\n",
       "      <td>1.000</td>\n",
       "      <td>0.000</td>\n",
       "      <td>0.0000</td>\n",
       "    </tr>\n",
       "    <tr>\n",
       "      <th>4</th>\n",
       "      <td>67248</td>\n",
       "      <td>Herbert R. Sim</td>\n",
       "      <td>When supply is more than demand, what happens?...</td>\n",
       "      <td>2021-04-07 04:44:25</td>\n",
       "      <td>suppli demand happen bitcoin best way hedg fia...</td>\n",
       "      <td>0.102</td>\n",
       "      <td>0.612</td>\n",
       "      <td>0.286</td>\n",
       "      <td>0.5719</td>\n",
       "    </tr>\n",
       "    <tr>\n",
       "      <th>...</th>\n",
       "      <td>...</td>\n",
       "      <td>...</td>\n",
       "      <td>...</td>\n",
       "      <td>...</td>\n",
       "      <td>...</td>\n",
       "      <td>...</td>\n",
       "      <td>...</td>\n",
       "      <td>...</td>\n",
       "      <td>...</td>\n",
       "    </tr>\n",
       "    <tr>\n",
       "      <th>24665</th>\n",
       "      <td>4325191</td>\n",
       "      <td>DustyBC Crypto</td>\n",
       "      <td>Do you think #Bitcoin will go lower than $17k ...</td>\n",
       "      <td>2022-10-11 17:55:00</td>\n",
       "      <td>think bitcoin go lower year ye</td>\n",
       "      <td>0.306</td>\n",
       "      <td>0.694</td>\n",
       "      <td>0.000</td>\n",
       "      <td>-0.2960</td>\n",
       "    </tr>\n",
       "    <tr>\n",
       "      <th>24666</th>\n",
       "      <td>4325355</td>\n",
       "      <td>Jeremy Gardner</td>\n",
       "      <td>Nothing warms the soul like a crypto conferenc...</td>\n",
       "      <td>2022-10-11 17:47:53</td>\n",
       "      <td>noth warm soul like crypto confer bear market ...</td>\n",
       "      <td>0.120</td>\n",
       "      <td>0.733</td>\n",
       "      <td>0.147</td>\n",
       "      <td>-0.0516</td>\n",
       "    </tr>\n",
       "    <tr>\n",
       "      <th>24667</th>\n",
       "      <td>57409629</td>\n",
       "      <td>Whale Coin Talk</td>\n",
       "      <td>Join us tomorrow 11/21 with @VRYNT_ at 12 PM E...</td>\n",
       "      <td>2022-11-20 19:48:47</td>\n",
       "      <td>join us tomorrow vrynt pm est pm utc set remin...</td>\n",
       "      <td>0.000</td>\n",
       "      <td>0.913</td>\n",
       "      <td>0.087</td>\n",
       "      <td>0.2960</td>\n",
       "    </tr>\n",
       "    <tr>\n",
       "      <th>24668</th>\n",
       "      <td>57410966</td>\n",
       "      <td>Bitcoin News</td>\n",
       "      <td>One of the bets made on the slot was destined ...</td>\n",
       "      <td>2022-11-20 21:31:49</td>\n",
       "      <td>one bet made slot destin land massiv win btc b...</td>\n",
       "      <td>0.000</td>\n",
       "      <td>0.743</td>\n",
       "      <td>0.257</td>\n",
       "      <td>0.5859</td>\n",
       "    </tr>\n",
       "    <tr>\n",
       "      <th>24669</th>\n",
       "      <td>57411030</td>\n",
       "      <td>David Choi</td>\n",
       "      <td>@dergigi Great thread @dergigi. I think folks ...</td>\n",
       "      <td>2022-11-20 21:20:24</td>\n",
       "      <td>dergigi great thread dergigi think folk unders...</td>\n",
       "      <td>0.096</td>\n",
       "      <td>0.641</td>\n",
       "      <td>0.263</td>\n",
       "      <td>0.6908</td>\n",
       "    </tr>\n",
       "  </tbody>\n",
       "</table>\n",
       "<p>24670 rows × 9 columns</p>\n",
       "</div>"
      ],
      "text/plain": [
       "          index        user_name  \\\n",
       "0         65906    Daily Express   \n",
       "1         66378             BTCC   \n",
       "2         66447    BtcTurk | PRO   \n",
       "3         67137         LatestLY   \n",
       "4         67248   Herbert R. Sim   \n",
       "...         ...              ...   \n",
       "24665   4325191   DustyBC Crypto   \n",
       "24666   4325355   Jeremy Gardner   \n",
       "24667  57409629  Whale Coin Talk   \n",
       "24668  57410966     Bitcoin News   \n",
       "24669  57411030       David Choi   \n",
       "\n",
       "                                                    text                 date  \\\n",
       "0      Bitcoin price crash: Cryptocurrency plunges in...  2021-04-07 12:03:04   \n",
       "1      The #BTC is stuck inside a large range between...  2021-04-07 10:03:34   \n",
       "2      Price data of #Bitcoin #BTC pairs on #btcturkp...  2021-04-07 09:42:48   \n",
       "3      #WhatsApp rival #Signal reportedly testing pee...  2021-04-07 05:37:45   \n",
       "4      When supply is more than demand, what happens?...  2021-04-07 04:44:25   \n",
       "...                                                  ...                  ...   \n",
       "24665  Do you think #Bitcoin will go lower than $17k ...  2022-10-11 17:55:00   \n",
       "24666  Nothing warms the soul like a crypto conferenc...  2022-10-11 17:47:53   \n",
       "24667  Join us tomorrow 11/21 with @VRYNT_ at 12 PM E...  2022-11-20 19:48:47   \n",
       "24668  One of the bets made on the slot was destined ...  2022-11-20 21:31:49   \n",
       "24669  @dergigi Great thread @dergigi. I think folks ...  2022-11-20 21:20:24   \n",
       "\n",
       "                                              clean_text  vader_neg  \\\n",
       "0      bitcoin price crash cryptocurr plung valu drop...      0.286   \n",
       "1      btc stuck insid larg rang recent day bitcoin c...      0.167   \n",
       "2      price data bitcoin btc pair btcturkpro trade b...      0.000   \n",
       "3      whatsapp rival signal reportedli test peer pee...      0.000   \n",
       "4      suppli demand happen bitcoin best way hedg fia...      0.102   \n",
       "...                                                  ...        ...   \n",
       "24665                     think bitcoin go lower year ye      0.306   \n",
       "24666  noth warm soul like crypto confer bear market ...      0.120   \n",
       "24667  join us tomorrow vrynt pm est pm utc set remin...      0.000   \n",
       "24668  one bet made slot destin land massiv win btc b...      0.000   \n",
       "24669  dergigi great thread dergigi think folk unders...      0.096   \n",
       "\n",
       "       vader_neu  vader_pos  vader_comp  \n",
       "0          0.714      0.000     -0.5859  \n",
       "1          0.833      0.000     -0.2500  \n",
       "2          1.000      0.000      0.0000  \n",
       "3          1.000      0.000      0.0000  \n",
       "4          0.612      0.286      0.5719  \n",
       "...          ...        ...         ...  \n",
       "24665      0.694      0.000     -0.2960  \n",
       "24666      0.733      0.147     -0.0516  \n",
       "24667      0.913      0.087      0.2960  \n",
       "24668      0.743      0.257      0.5859  \n",
       "24669      0.641      0.263      0.6908  \n",
       "\n",
       "[24670 rows x 9 columns]"
      ]
     },
     "execution_count": 46,
     "metadata": {},
     "output_type": "execute_result"
    }
   ],
   "source": [
    "tweets_2"
   ]
  },
  {
   "cell_type": "code",
   "execution_count": 54,
   "metadata": {},
   "outputs": [],
   "source": [
    "class0=[]\n",
    "for i in range(len(tweets_2)):\n",
    "    if tweets_2.loc[i,'vader_neg']>0:\n",
    "        class0+=[\"neg\"]\n",
    "    elif tweets_2.loc[i,'vader_pos']>0:\n",
    "        class0+=[\"pos\"]        \n",
    "    else:\n",
    "        class0+=[\"else\"]  "
   ]
  },
  {
   "cell_type": "code",
   "execution_count": 55,
   "metadata": {},
   "outputs": [
    {
     "data": {
      "text/plain": [
       "else    10158\n",
       "pos      8561\n",
       "neg      5951\n",
       "Name: class, dtype: int64"
      ]
     },
     "execution_count": 55,
     "metadata": {},
     "output_type": "execute_result"
    }
   ],
   "source": [
    "tweets['class']=class0\n",
    "tweets['class'].value_counts()"
   ]
  },
  {
   "cell_type": "code",
   "execution_count": 59,
   "metadata": {},
   "outputs": [
    {
     "name": "stdout",
     "output_type": "stream",
     "text": [
      "Before Tokenization & Padding \n",
      " bitcoin price crash cryptocurr plung valu drop hour bitcoin bitcoin btc crypto http co\n",
      "After Tokenization & Padding \n",
      " [  1  10 200   6 681 106 108  82   1   1   4   5   3   2   0   0   0   0\n",
      "   0   0   0   0   0   0   0   0   0   0   0   0   0   0   0   0   0   0\n",
      "   0   0   0   0   0   0   0   0   0   0   0   0   0   0]\n"
     ]
    }
   ],
   "source": [
    "from tensorflow.keras.preprocessing.text import Tokenizer\n",
    "from tensorflow.keras.preprocessing.sequence import pad_sequences\n",
    "\n",
    "max_words = 5000\n",
    "max_len=50\n",
    "\n",
    "def tokenize_pad_sequences(text):\n",
    "    '''\n",
    "    This function tokenize the input text into sequnences of intergers and then\n",
    "    pad each sequence to the same length\n",
    "    '''\n",
    "    # Text tokenization\n",
    "    tokenizer = Tokenizer(num_words=max_words, lower=True, split=' ')\n",
    "    tokenizer.fit_on_texts(text)\n",
    "    # Transforms text to a sequence of integers\n",
    "    X = tokenizer.texts_to_sequences(text)\n",
    "    # Pad sequences to the same length\n",
    "    X = pad_sequences(X, padding='post', maxlen=max_len)\n",
    "    # return sequences\n",
    "    return X, tokenizer\n",
    "\n",
    "print('Before Tokenization & Padding \\n', tweets['clean_text'][0])\n",
    "X, tokenizer = tokenize_pad_sequences(tweets['clean_text'])\n",
    "print('After Tokenization & Padding \\n', X[0])"
   ]
  },
  {
   "cell_type": "code",
   "execution_count": 60,
   "metadata": {},
   "outputs": [
    {
     "name": "stdout",
     "output_type": "stream",
     "text": [
      "(24670, 50)\n"
     ]
    }
   ],
   "source": [
    "print(X.shape)"
   ]
  },
  {
   "cell_type": "markdown",
   "metadata": {},
   "source": [
    "### Model"
   ]
  },
  {
   "cell_type": "code",
   "execution_count": 61,
   "metadata": {},
   "outputs": [
    {
     "name": "stdout",
     "output_type": "stream",
     "text": [
      "Train Set:  (14802, 50) (14802, 3)\n",
      "Validation Set:  (4934, 50) (4934, 3)\n",
      "Test Set:  (4934, 50) (4934, 3)\n"
     ]
    }
   ],
   "source": [
    "y = pd.get_dummies(tweets['class'])\n",
    "X_train, X_test, y_train, y_test = train_test_split(X, y, test_size=0.2, random_state=1)\n",
    "X_train, X_val, y_train, y_val = train_test_split(X_train, y_train, test_size=0.25, random_state=1)\n",
    "print('Train Set: ', X_train.shape, y_train.shape)\n",
    "print('Validation Set: ', X_val.shape, y_val.shape)\n",
    "print('Test Set: ', X_test.shape, y_test.shape)"
   ]
  },
  {
   "cell_type": "code",
   "execution_count": 62,
   "metadata": {},
   "outputs": [],
   "source": [
    "from tensorflow.keras.models import Sequential\n",
    "from tensorflow.keras.layers import Embedding, Conv1D, MaxPooling1D, Bidirectional, LSTM, Dense, Dropout\n",
    "from tensorflow.keras.metrics import Precision, Recall\n",
    "from tensorflow.keras.optimizers import SGD\n",
    "from tensorflow.keras.optimizers import RMSprop\n",
    "from tensorflow.keras import datasets\n",
    "from tensorflow.keras.callbacks import LearningRateScheduler\n",
    "from tensorflow.keras.callbacks import History\n",
    "from tensorflow.keras import losses"
   ]
  },
  {
   "cell_type": "code",
   "execution_count": 76,
   "metadata": {},
   "outputs": [],
   "source": [
    "import tensorflow.keras.backend as K\n",
    "\n",
    "def f1_score(precision, recall):\n",
    "    ''' Function to calculate f1 score '''\n",
    "    \n",
    "    f1_val = 2*(precision*recall)/(precision+recall+K.epsilon())\n",
    "    return f1_val"
   ]
  },
  {
   "cell_type": "code",
   "execution_count": 79,
   "metadata": {},
   "outputs": [],
   "source": [
    "vocab_size = 5000\n",
    "embedding_size = 32\n",
    "epochs = 10\n",
    "learning_rate = 0.1\n",
    "decay_rate = learning_rate / epochs\n",
    "momentum = 0.8"
   ]
  },
  {
   "cell_type": "code",
   "execution_count": 80,
   "metadata": {},
   "outputs": [
    {
     "name": "stderr",
     "output_type": "stream",
     "text": [
      "/Users/nozak/.pyenv/versions/crypto/lib/python3.9/site-packages/keras/optimizers/optimizer_v2/gradient_descent.py:111: UserWarning: The `lr` argument is deprecated, use `learning_rate` instead.\n",
      "  super().__init__(name, **kwargs)\n"
     ]
    }
   ],
   "source": [
    "sgd = SGD(lr=learning_rate, momentum=momentum, decay=decay_rate, nesterov=False)\n",
    "# Build model\n",
    "model= Sequential()\n",
    "model.add(Embedding(vocab_size, embedding_size, input_length=max_len))\n",
    "model.add(Conv1D(filters=32, kernel_size=1, padding='same', activation='relu'))\n",
    "model.add(MaxPooling1D(pool_size=2))\n",
    "model.add(Bidirectional(LSTM(32)))\n",
    "model.add(Dropout(0.4))\n",
    "model.add(Dense(3, activation='softmax'))"
   ]
  },
  {
   "cell_type": "code",
   "execution_count": 91,
   "metadata": {},
   "outputs": [
    {
     "name": "stdout",
     "output_type": "stream",
     "text": [
      "Model: \"sequential_3\"\n",
      "_________________________________________________________________\n",
      " Layer (type)                Output Shape              Param #   \n",
      "=================================================================\n",
      " embedding_3 (Embedding)     (None, 50, 32)            160000    \n",
      "                                                                 \n",
      " conv1d_3 (Conv1D)           (None, 50, 32)            1056      \n",
      "                                                                 \n",
      " max_pooling1d_3 (MaxPooling  (None, 25, 32)           0         \n",
      " 1D)                                                             \n",
      "                                                                 \n",
      " bidirectional_3 (Bidirectio  (None, 64)               16640     \n",
      " nal)                                                            \n",
      "                                                                 \n",
      " dropout_3 (Dropout)         (None, 64)                0         \n",
      "                                                                 \n",
      " dense_3 (Dense)             (None, 3)                 195       \n",
      "                                                                 \n",
      "=================================================================\n",
      "Total params: 177,891\n",
      "Trainable params: 177,891\n",
      "Non-trainable params: 0\n",
      "_________________________________________________________________\n"
     ]
    }
   ],
   "source": [
    "model.summary()"
   ]
  },
  {
   "cell_type": "code",
   "execution_count": 81,
   "metadata": {},
   "outputs": [
    {
     "name": "stdout",
     "output_type": "stream",
     "text": [
      "You must install pydot (`pip install pydot`) and install graphviz (see instructions at https://graphviz.gitlab.io/download/) for plot_model to work.\n"
     ]
    }
   ],
   "source": [
    "import tensorflow as tf\n",
    "tf.keras.utils.plot_model(model, show_shapes=True)"
   ]
  },
  {
   "cell_type": "code",
   "execution_count": 82,
   "metadata": {},
   "outputs": [],
   "source": [
    "model.compile(loss='categorical_crossentropy', optimizer=sgd, metrics=['accuracy', Precision(), Recall()])"
   ]
  },
  {
   "cell_type": "code",
   "execution_count": 83,
   "metadata": {},
   "outputs": [
    {
     "name": "stdout",
     "output_type": "stream",
     "text": [
      "Epoch 1/10\n",
      "232/232 [==============================] - 5s 11ms/step - loss: 1.0249 - accuracy: 0.4676 - precision_1: 0.6271 - recall_1: 0.1493 - val_loss: 0.9983 - val_accuracy: 0.4921 - val_precision_1: 0.6167 - val_recall_1: 0.2195\n",
      "Epoch 2/10\n",
      "232/232 [==============================] - 2s 8ms/step - loss: 0.9876 - accuracy: 0.5030 - precision_1: 0.6394 - recall_1: 0.2141 - val_loss: 0.9804 - val_accuracy: 0.4953 - val_precision_1: 0.6611 - val_recall_1: 0.1988\n",
      "Epoch 3/10\n",
      "232/232 [==============================] - 2s 8ms/step - loss: 0.9656 - accuracy: 0.5228 - precision_1: 0.6626 - recall_1: 0.2334 - val_loss: 0.9621 - val_accuracy: 0.5140 - val_precision_1: 0.6440 - val_recall_1: 0.2479\n",
      "Epoch 4/10\n",
      "232/232 [==============================] - 2s 8ms/step - loss: 0.9365 - accuracy: 0.5456 - precision_1: 0.6850 - recall_1: 0.2672 - val_loss: 0.9284 - val_accuracy: 0.5359 - val_precision_1: 0.6995 - val_recall_1: 0.2487\n",
      "Epoch 5/10\n",
      "232/232 [==============================] - 2s 8ms/step - loss: 0.8932 - accuracy: 0.5763 - precision_1: 0.6998 - recall_1: 0.3193 - val_loss: 0.8886 - val_accuracy: 0.5728 - val_precision_1: 0.7341 - val_recall_1: 0.3073\n",
      "Epoch 6/10\n",
      "232/232 [==============================] - 2s 8ms/step - loss: 0.8295 - accuracy: 0.6144 - precision_1: 0.7182 - recall_1: 0.4108 - val_loss: 0.8045 - val_accuracy: 0.6222 - val_precision_1: 0.7247 - val_recall_1: 0.4497\n",
      "Epoch 7/10\n",
      "232/232 [==============================] - 2s 8ms/step - loss: 0.7485 - accuracy: 0.6587 - precision_1: 0.7334 - recall_1: 0.5228 - val_loss: 0.7396 - val_accuracy: 0.6498 - val_precision_1: 0.7130 - val_recall_1: 0.5509\n",
      "Epoch 8/10\n",
      "232/232 [==============================] - 2s 8ms/step - loss: 0.6667 - accuracy: 0.6927 - precision_1: 0.7431 - recall_1: 0.6124 - val_loss: 0.6596 - val_accuracy: 0.6763 - val_precision_1: 0.7238 - val_recall_1: 0.6165\n",
      "Epoch 9/10\n",
      "232/232 [==============================] - 2s 8ms/step - loss: 0.6066 - accuracy: 0.7086 - precision_1: 0.7436 - recall_1: 0.6564 - val_loss: 0.6213 - val_accuracy: 0.6891 - val_precision_1: 0.7218 - val_recall_1: 0.6447\n",
      "Epoch 10/10\n",
      "232/232 [==============================] - 2s 8ms/step - loss: 0.5668 - accuracy: 0.7193 - precision_1: 0.7463 - recall_1: 0.6820 - val_loss: 0.5887 - val_accuracy: 0.6994 - val_precision_1: 0.7188 - val_recall_1: 0.6721\n"
     ]
    }
   ],
   "source": [
    "history = model.fit(X_train,y_train,validation_data=(X_val, y_val),batch_size=64,epochs=epochs,verbose=1)"
   ]
  },
  {
   "cell_type": "code",
   "execution_count": 84,
   "metadata": {},
   "outputs": [
    {
     "name": "stdout",
     "output_type": "stream",
     "text": [
      "\n",
      "Accuracy  : 0.7191\n",
      "Precision : 0.7400\n",
      "Recall    : 0.6895\n",
      "F1 Score  : 0.7139\n"
     ]
    }
   ],
   "source": [
    "# Evaluate model on the test set\n",
    "loss, accuracy, precision, recall = model.evaluate(X_test, y_test, verbose=0)\n",
    "# Print metrics\n",
    "print('')\n",
    "print('Accuracy  : {:.4f}'.format(accuracy))\n",
    "print('Precision : {:.4f}'.format(precision))\n",
    "print('Recall    : {:.4f}'.format(recall))\n",
    "print('F1 Score  : {:.4f}'.format(f1_score(precision, recall)))"
   ]
  },
  {
   "cell_type": "code",
   "execution_count": 85,
   "metadata": {},
   "outputs": [
    {
     "data": {
      "image/png": "[encoded data removed]",
      "text/plain": [
       "<Figure size 1000x400 with 2 Axes>"
      ]
     },
     "metadata": {},
     "output_type": "display_data"
    }
   ],
   "source": [
    "def plot_training_hist(history):\n",
    "    '''Function to plot history for accuracy and loss'''\n",
    "    \n",
    "    fig, ax = plt.subplots(1,2, figsize=(10,4))\n",
    "    # first plot\n",
    "    ax[0].plot(history.history['accuracy'])\n",
    "    ax[0].plot(history.history['val_accuracy'])\n",
    "    ax[0].set_title('Model Accuracy')\n",
    "    ax[0].set_xlabel('epoch')\n",
    "    ax[0].set_ylabel('accuracy')\n",
    "    ax[0].legend(['train', 'validation'], loc='best')\n",
    "    \n",
    "    # second plot\n",
    "    ax[1].plot(history.history['loss'])\n",
    "    ax[1].plot(history.history['val_loss'])\n",
    "    ax[1].set_title('Model Loss')\n",
    "    ax[1].set_xlabel('epoch')\n",
    "    ax[1].set_ylabel('loss')\n",
    "    ax[1].legend(['train', 'validation'], loc='best')\n",
    "    \n",
    "plot_training_hist(history)"
   ]
  },
  {
   "cell_type": "code",
   "execution_count": 86,
   "metadata": {},
   "outputs": [
    {
     "name": "stdout",
     "output_type": "stream",
     "text": [
      "155/155 [==============================] - 1s 2ms/step\n"
     ]
    }
   ],
   "source": [
    "y_pred = model.predict(X_test)"
   ]
  },
  {
   "cell_type": "code",
   "execution_count": 87,
   "metadata": {},
   "outputs": [
    {
     "data": {
      "text/plain": [
       "array([[9.04529728e-03, 2.99170226e-01, 6.91784441e-01],\n",
       "       [8.23375225e-01, 6.70605674e-02, 1.09564155e-01],\n",
       "       [7.61477742e-04, 3.93119305e-01, 6.06119275e-01],\n",
       "       ...,\n",
       "       [6.26991838e-02, 2.92826325e-01, 6.44474447e-01],\n",
       "       [2.03098884e-04, 4.06275809e-01, 5.93521059e-01],\n",
       "       [7.90624559e-01, 8.67560580e-02, 1.22619368e-01]], dtype=float32)"
      ]
     },
     "execution_count": 87,
     "metadata": {},
     "output_type": "execute_result"
    }
   ],
   "source": [
    "y_pred"
   ]
  },
  {
   "cell_type": "markdown",
   "metadata": {},
   "source": [
    "### Loading model"
   ]
  },
  {
   "cell_type": "code",
   "execution_count": 89,
   "metadata": {},
   "outputs": [],
   "source": [
    "from tensorflow.keras import models"
   ]
  },
  {
   "cell_type": "code",
   "execution_count": 90,
   "metadata": {},
   "outputs": [
    {
     "name": "stderr",
     "output_type": "stream",
     "text": [
      "WARNING:absl:Found untraced functions such as _jit_compiled_convolution_op, lstm_cell_10_layer_call_fn, lstm_cell_10_layer_call_and_return_conditional_losses, lstm_cell_11_layer_call_fn, lstm_cell_11_layer_call_and_return_conditional_losses while saving (showing 5 of 5). These functions will not be directly callable after loading.\n"
     ]
    },
    {
     "name": "stdout",
     "output_type": "stream",
     "text": [
      "INFO:tensorflow:Assets written to: tweeter_model/assets\n"
     ]
    },
    {
     "name": "stderr",
     "output_type": "stream",
     "text": [
      "INFO:tensorflow:Assets written to: tweeter_model/assets\n"
     ]
    }
   ],
   "source": [
    "models.save_model(model, 'tweeter_model')"
   ]
  },
  {
   "cell_type": "code",
   "execution_count": null,
   "metadata": {},
   "outputs": [],
   "source": [
    "np.savez(\"./BTC-USDT.npz\",df[[\"open_time\"]],df[[\"close\"]])"
   ]
  },
  {
   "cell_type": "code",
   "execution_count": null,
   "metadata": {},
   "outputs": [],
   "source": [
    "npz = np.load(\"./BTC-USDT.npz\")\n",
    "df1 = pd.DataFrame(npz[\"arr_0\"])\n",
    "df2 = pd.DataFrame(npz[\"arr_1\"])\n",
    "\n",
    "df = pd.concat([df1,df2],axis=1)\n",
    "df.columns = [\"open_time\",\"close\"]\n",
    "df.head()"
   ]
  }
 ],
 "metadata": {
  "kernelspec": {
   "display_name": "Python 3.9.14 64-bit ('crypto')",
   "language": "python",
   "name": "python3"
  },
  "language_info": {
   "codemirror_mode": {
    "name": "ipython",
    "version": 3
   },
   "file_extension": ".py",
   "mimetype": "text/x-python",
   "name": "python",
   "nbconvert_exporter": "python",
   "pygments_lexer": "ipython3",
   "version": "3.9.14"
  },
  "orig_nbformat": 4,
  "vscode": {
   "interpreter": {
    "hash": "47ae32b5c05d6804bd8ae4a5ad60d350f625edab1e589b4abf43ec4afcda3497"
   }
  }
 },
 "nbformat": 4,
 "nbformat_minor": 2
}
