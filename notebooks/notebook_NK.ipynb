{
 "cells": [
  {
   "cell_type": "code",
   "execution_count": 1,
   "metadata": {},
   "outputs": [],
   "source": [
    "import pandas as pd\n",
    "import numpy as np\n",
    "from os import listdir\n",
    "import matplotlib.pyplot as plt\n",
    "import seaborn as sns"
   ]
  },
  {
   "cell_type": "markdown",
   "metadata": {},
   "source": [
    "# Dataset Bitfinex"
   ]
  },
  {
   "cell_type": "markdown",
   "metadata": {},
   "source": [
    "### Collecting data"
   ]
  },
  {
   "cell_type": "code",
   "execution_count": 2,
   "metadata": {},
   "outputs": [],
   "source": [
    "mypath = \"../raw_data/crypto_data\"\n",
    "onlyfiles = [f for f in listdir(mypath)]\n"
   ]
  },
  {
   "cell_type": "code",
   "execution_count": 3,
   "metadata": {},
   "outputs": [],
   "source": [
    "df = pd.read_csv(\"../raw_data/crypto_data/1inch-usd.csv\")\n",
    "    "
   ]
  },
  {
   "cell_type": "code",
   "execution_count": 4,
   "metadata": {},
   "outputs": [
    {
     "data": {
      "text/html": [
       "<div>\n",
       "<style scoped>\n",
       "    .dataframe tbody tr th:only-of-type {\n",
       "        vertical-align: middle;\n",
       "    }\n",
       "\n",
       "    .dataframe tbody tr th {\n",
       "        vertical-align: top;\n",
       "    }\n",
       "\n",
       "    .dataframe thead th {\n",
       "        text-align: right;\n",
       "    }\n",
       "</style>\n",
       "<table border=\"1\" class=\"dataframe\">\n",
       "  <thead>\n",
       "    <tr style=\"text-align: right;\">\n",
       "      <th></th>\n",
       "      <th>time</th>\n",
       "      <th>open</th>\n",
       "      <th>close</th>\n",
       "      <th>high</th>\n",
       "      <th>low</th>\n",
       "      <th>volume</th>\n",
       "      <th>Unnamed: 0</th>\n",
       "    </tr>\n",
       "  </thead>\n",
       "  <tbody>\n",
       "    <tr>\n",
       "      <th>0</th>\n",
       "      <td>1628623620000</td>\n",
       "      <td>2.7621</td>\n",
       "      <td>2.7662</td>\n",
       "      <td>2.7662</td>\n",
       "      <td>2.7621</td>\n",
       "      <td>1259.937600</td>\n",
       "      <td>NaN</td>\n",
       "    </tr>\n",
       "    <tr>\n",
       "      <th>1</th>\n",
       "      <td>1628623980000</td>\n",
       "      <td>2.7668</td>\n",
       "      <td>2.7668</td>\n",
       "      <td>2.7668</td>\n",
       "      <td>2.7668</td>\n",
       "      <td>12.660914</td>\n",
       "      <td>NaN</td>\n",
       "    </tr>\n",
       "    <tr>\n",
       "      <th>2</th>\n",
       "      <td>1628624100000</td>\n",
       "      <td>2.7610</td>\n",
       "      <td>2.7664</td>\n",
       "      <td>2.7664</td>\n",
       "      <td>2.7610</td>\n",
       "      <td>0.199698</td>\n",
       "      <td>NaN</td>\n",
       "    </tr>\n",
       "    <tr>\n",
       "      <th>3</th>\n",
       "      <td>1628624220000</td>\n",
       "      <td>2.7710</td>\n",
       "      <td>2.7710</td>\n",
       "      <td>2.7710</td>\n",
       "      <td>2.7710</td>\n",
       "      <td>0.001921</td>\n",
       "      <td>NaN</td>\n",
       "    </tr>\n",
       "    <tr>\n",
       "      <th>4</th>\n",
       "      <td>1628625300000</td>\n",
       "      <td>2.7706</td>\n",
       "      <td>2.7709</td>\n",
       "      <td>2.7709</td>\n",
       "      <td>2.7706</td>\n",
       "      <td>133.633900</td>\n",
       "      <td>NaN</td>\n",
       "    </tr>\n",
       "  </tbody>\n",
       "</table>\n",
       "</div>"
      ],
      "text/plain": [
       "            time    open   close    high     low       volume  Unnamed: 0\n",
       "0  1628623620000  2.7621  2.7662  2.7662  2.7621  1259.937600         NaN\n",
       "1  1628623980000  2.7668  2.7668  2.7668  2.7668    12.660914         NaN\n",
       "2  1628624100000  2.7610  2.7664  2.7664  2.7610     0.199698         NaN\n",
       "3  1628624220000  2.7710  2.7710  2.7710  2.7710     0.001921         NaN\n",
       "4  1628625300000  2.7706  2.7709  2.7709  2.7706   133.633900         NaN"
      ]
     },
     "execution_count": 4,
     "metadata": {},
     "output_type": "execute_result"
    }
   ],
   "source": [
    "df.head()"
   ]
  },
  {
   "cell_type": "code",
   "execution_count": 23,
   "metadata": {},
   "outputs": [
    {
     "data": {
      "text/plain": [
       "Index(['time', 'open', 'close', 'high', 'low', 'volume', 'Unnamed: 0'], dtype='object')"
      ]
     },
     "execution_count": 23,
     "metadata": {},
     "output_type": "execute_result"
    }
   ],
   "source": [
    "df.columns"
   ]
  },
  {
   "cell_type": "markdown",
   "metadata": {},
   "source": [
    "### Cleaning data"
   ]
  },
  {
   "cell_type": "code",
   "execution_count": 6,
   "metadata": {},
   "outputs": [
    {
     "data": {
      "text/plain": [
       "0      2021-08-10 19:27:00\n",
       "1      2021-08-10 19:33:00\n",
       "2      2021-08-10 19:35:00\n",
       "3      2021-08-10 19:37:00\n",
       "4      2021-08-10 19:55:00\n",
       "               ...        \n",
       "7135   2021-08-29 13:06:00\n",
       "7136   2021-08-29 13:08:00\n",
       "7137   2021-08-29 13:10:00\n",
       "7138   2021-08-29 13:12:00\n",
       "7139   2021-08-29 13:14:00\n",
       "Name: time, Length: 7140, dtype: datetime64[ns]"
      ]
     },
     "execution_count": 6,
     "metadata": {},
     "output_type": "execute_result"
    }
   ],
   "source": [
    "df[\"time\"]= pd.to_datetime(df[\"time\"], unit='ms')\n",
    "df['time']\n"
   ]
  },
  {
   "cell_type": "code",
   "execution_count": 24,
   "metadata": {},
   "outputs": [],
   "source": [
    "df.isnull().sum()\n",
    "df = df.drop(columns = ['Unnamed: 0'])"
   ]
  },
  {
   "cell_type": "markdown",
   "metadata": {},
   "source": [
    "## Dataset Binance"
   ]
  },
  {
   "cell_type": "markdown",
   "metadata": {},
   "source": [
    "### Collecting data"
   ]
  },
  {
   "cell_type": "code",
   "execution_count": 8,
   "metadata": {},
   "outputs": [],
   "source": [
    "path = \"../raw_data/ETH-USDT.parquet\"\n",
    "eth = pd.read_parquet(path, engine='auto')"
   ]
  },
  {
   "cell_type": "code",
   "execution_count": 25,
   "metadata": {},
   "outputs": [
    {
     "data": {
      "text/html": [
       "<div>\n",
       "<style scoped>\n",
       "    .dataframe tbody tr th:only-of-type {\n",
       "        vertical-align: middle;\n",
       "    }\n",
       "\n",
       "    .dataframe tbody tr th {\n",
       "        vertical-align: top;\n",
       "    }\n",
       "\n",
       "    .dataframe thead th {\n",
       "        text-align: right;\n",
       "    }\n",
       "</style>\n",
       "<table border=\"1\" class=\"dataframe\">\n",
       "  <thead>\n",
       "    <tr style=\"text-align: right;\">\n",
       "      <th></th>\n",
       "      <th>open</th>\n",
       "      <th>high</th>\n",
       "      <th>low</th>\n",
       "      <th>close</th>\n",
       "      <th>volume</th>\n",
       "    </tr>\n",
       "    <tr>\n",
       "      <th>open_time</th>\n",
       "      <th></th>\n",
       "      <th></th>\n",
       "      <th></th>\n",
       "      <th></th>\n",
       "      <th></th>\n",
       "    </tr>\n",
       "  </thead>\n",
       "  <tbody>\n",
       "    <tr>\n",
       "      <th>2017-08-17 04:00:00</th>\n",
       "      <td>301.130005</td>\n",
       "      <td>301.130005</td>\n",
       "      <td>301.130005</td>\n",
       "      <td>301.130005</td>\n",
       "      <td>0.42643</td>\n",
       "    </tr>\n",
       "    <tr>\n",
       "      <th>2017-08-17 04:01:00</th>\n",
       "      <td>301.130005</td>\n",
       "      <td>301.130005</td>\n",
       "      <td>301.130005</td>\n",
       "      <td>301.130005</td>\n",
       "      <td>2.75787</td>\n",
       "    </tr>\n",
       "    <tr>\n",
       "      <th>2017-08-17 04:02:00</th>\n",
       "      <td>300.000000</td>\n",
       "      <td>300.000000</td>\n",
       "      <td>300.000000</td>\n",
       "      <td>300.000000</td>\n",
       "      <td>0.09930</td>\n",
       "    </tr>\n",
       "    <tr>\n",
       "      <th>2017-08-17 04:03:00</th>\n",
       "      <td>300.000000</td>\n",
       "      <td>300.000000</td>\n",
       "      <td>300.000000</td>\n",
       "      <td>300.000000</td>\n",
       "      <td>0.31389</td>\n",
       "    </tr>\n",
       "    <tr>\n",
       "      <th>2017-08-17 04:04:00</th>\n",
       "      <td>301.130005</td>\n",
       "      <td>301.130005</td>\n",
       "      <td>301.130005</td>\n",
       "      <td>301.130005</td>\n",
       "      <td>0.23202</td>\n",
       "    </tr>\n",
       "  </tbody>\n",
       "</table>\n",
       "</div>"
      ],
      "text/plain": [
       "                           open        high         low       close   volume\n",
       "open_time                                                                   \n",
       "2017-08-17 04:00:00  301.130005  301.130005  301.130005  301.130005  0.42643\n",
       "2017-08-17 04:01:00  301.130005  301.130005  301.130005  301.130005  2.75787\n",
       "2017-08-17 04:02:00  300.000000  300.000000  300.000000  300.000000  0.09930\n",
       "2017-08-17 04:03:00  300.000000  300.000000  300.000000  300.000000  0.31389\n",
       "2017-08-17 04:04:00  301.130005  301.130005  301.130005  301.130005  0.23202"
      ]
     },
     "execution_count": 25,
     "metadata": {},
     "output_type": "execute_result"
    }
   ],
   "source": [
    "eth.head()"
   ]
  },
  {
   "cell_type": "markdown",
   "metadata": {},
   "source": [
    "### Cleaning data"
   ]
  },
  {
   "cell_type": "code",
   "execution_count": 31,
   "metadata": {},
   "outputs": [
    {
     "data": {
      "text/plain": [
       "(2753105, 5)"
      ]
     },
     "execution_count": 31,
     "metadata": {},
     "output_type": "execute_result"
    }
   ],
   "source": [
    "eth.shape"
   ]
  },
  {
   "cell_type": "code",
   "execution_count": 10,
   "metadata": {},
   "outputs": [],
   "source": [
    "eth = eth.drop(columns = ['quote_asset_volume',\n",
    "       'number_of_trades', 'taker_buy_base_asset_volume',\n",
    "       'taker_buy_quote_asset_volume'])"
   ]
  },
  {
   "cell_type": "code",
   "execution_count": 26,
   "metadata": {},
   "outputs": [
    {
     "data": {
      "text/html": [
       "<div>\n",
       "<style scoped>\n",
       "    .dataframe tbody tr th:only-of-type {\n",
       "        vertical-align: middle;\n",
       "    }\n",
       "\n",
       "    .dataframe tbody tr th {\n",
       "        vertical-align: top;\n",
       "    }\n",
       "\n",
       "    .dataframe thead th {\n",
       "        text-align: right;\n",
       "    }\n",
       "</style>\n",
       "<table border=\"1\" class=\"dataframe\">\n",
       "  <thead>\n",
       "    <tr style=\"text-align: right;\">\n",
       "      <th></th>\n",
       "      <th>open</th>\n",
       "      <th>high</th>\n",
       "      <th>low</th>\n",
       "      <th>close</th>\n",
       "      <th>volume</th>\n",
       "    </tr>\n",
       "    <tr>\n",
       "      <th>open_time</th>\n",
       "      <th></th>\n",
       "      <th></th>\n",
       "      <th></th>\n",
       "      <th></th>\n",
       "      <th></th>\n",
       "    </tr>\n",
       "  </thead>\n",
       "  <tbody>\n",
       "    <tr>\n",
       "      <th>2017-08-17 04:00:00</th>\n",
       "      <td>301.130005</td>\n",
       "      <td>301.130005</td>\n",
       "      <td>301.130005</td>\n",
       "      <td>301.130005</td>\n",
       "      <td>0.42643</td>\n",
       "    </tr>\n",
       "  </tbody>\n",
       "</table>\n",
       "</div>"
      ],
      "text/plain": [
       "                           open        high         low       close   volume\n",
       "open_time                                                                   \n",
       "2017-08-17 04:00:00  301.130005  301.130005  301.130005  301.130005  0.42643"
      ]
     },
     "execution_count": 26,
     "metadata": {},
     "output_type": "execute_result"
    }
   ],
   "source": [
    "eth.head(1)"
   ]
  },
  {
   "cell_type": "code",
   "execution_count": 27,
   "metadata": {},
   "outputs": [
    {
     "data": {
      "text/html": [
       "<div>\n",
       "<style scoped>\n",
       "    .dataframe tbody tr th:only-of-type {\n",
       "        vertical-align: middle;\n",
       "    }\n",
       "\n",
       "    .dataframe tbody tr th {\n",
       "        vertical-align: top;\n",
       "    }\n",
       "\n",
       "    .dataframe thead th {\n",
       "        text-align: right;\n",
       "    }\n",
       "</style>\n",
       "<table border=\"1\" class=\"dataframe\">\n",
       "  <thead>\n",
       "    <tr style=\"text-align: right;\">\n",
       "      <th></th>\n",
       "      <th>open</th>\n",
       "      <th>high</th>\n",
       "      <th>low</th>\n",
       "      <th>close</th>\n",
       "      <th>volume</th>\n",
       "    </tr>\n",
       "    <tr>\n",
       "      <th>open_time</th>\n",
       "      <th></th>\n",
       "      <th></th>\n",
       "      <th></th>\n",
       "      <th></th>\n",
       "      <th></th>\n",
       "    </tr>\n",
       "  </thead>\n",
       "  <tbody>\n",
       "    <tr>\n",
       "      <th>2022-11-16 22:43:00</th>\n",
       "      <td>1205.150024</td>\n",
       "      <td>1206.5</td>\n",
       "      <td>1205.150024</td>\n",
       "      <td>1206.5</td>\n",
       "      <td>143.3013</td>\n",
       "    </tr>\n",
       "  </tbody>\n",
       "</table>\n",
       "</div>"
      ],
      "text/plain": [
       "                            open    high          low   close    volume\n",
       "open_time                                                              \n",
       "2022-11-16 22:43:00  1205.150024  1206.5  1205.150024  1206.5  143.3013"
      ]
     },
     "execution_count": 27,
     "metadata": {},
     "output_type": "execute_result"
    }
   ],
   "source": [
    "eth.tail(1)"
   ]
  },
  {
   "cell_type": "code",
   "execution_count": 29,
   "metadata": {},
   "outputs": [
    {
     "data": {
      "text/plain": [
       "open      0\n",
       "high      0\n",
       "low       0\n",
       "close     0\n",
       "volume    0\n",
       "dtype: int64"
      ]
     },
     "execution_count": 29,
     "metadata": {},
     "output_type": "execute_result"
    }
   ],
   "source": [
    "eth.isnull().sum()"
   ]
  },
  {
   "cell_type": "code",
   "execution_count": 14,
   "metadata": {},
   "outputs": [
    {
     "data": {
      "text/html": [
       "<div>\n",
       "<style scoped>\n",
       "    .dataframe tbody tr th:only-of-type {\n",
       "        vertical-align: middle;\n",
       "    }\n",
       "\n",
       "    .dataframe tbody tr th {\n",
       "        vertical-align: top;\n",
       "    }\n",
       "\n",
       "    .dataframe thead th {\n",
       "        text-align: right;\n",
       "    }\n",
       "</style>\n",
       "<table border=\"1\" class=\"dataframe\">\n",
       "  <thead>\n",
       "    <tr style=\"text-align: right;\">\n",
       "      <th></th>\n",
       "      <th>open</th>\n",
       "      <th>high</th>\n",
       "      <th>low</th>\n",
       "      <th>close</th>\n",
       "      <th>volume</th>\n",
       "    </tr>\n",
       "  </thead>\n",
       "  <tbody>\n",
       "    <tr>\n",
       "      <th>open</th>\n",
       "      <td>1.000000</td>\n",
       "      <td>0.999999</td>\n",
       "      <td>0.999999</td>\n",
       "      <td>0.999998</td>\n",
       "      <td>0.067169</td>\n",
       "    </tr>\n",
       "    <tr>\n",
       "      <th>high</th>\n",
       "      <td>0.999999</td>\n",
       "      <td>1.000000</td>\n",
       "      <td>0.999998</td>\n",
       "      <td>0.999999</td>\n",
       "      <td>0.067632</td>\n",
       "    </tr>\n",
       "    <tr>\n",
       "      <th>low</th>\n",
       "      <td>0.999999</td>\n",
       "      <td>0.999998</td>\n",
       "      <td>1.000000</td>\n",
       "      <td>0.999999</td>\n",
       "      <td>0.066665</td>\n",
       "    </tr>\n",
       "    <tr>\n",
       "      <th>close</th>\n",
       "      <td>0.999998</td>\n",
       "      <td>0.999999</td>\n",
       "      <td>0.999999</td>\n",
       "      <td>1.000000</td>\n",
       "      <td>0.067143</td>\n",
       "    </tr>\n",
       "    <tr>\n",
       "      <th>volume</th>\n",
       "      <td>0.067169</td>\n",
       "      <td>0.067632</td>\n",
       "      <td>0.066665</td>\n",
       "      <td>0.067143</td>\n",
       "      <td>1.000000</td>\n",
       "    </tr>\n",
       "  </tbody>\n",
       "</table>\n",
       "</div>"
      ],
      "text/plain": [
       "            open      high       low     close    volume\n",
       "open    1.000000  0.999999  0.999999  0.999998  0.067169\n",
       "high    0.999999  1.000000  0.999998  0.999999  0.067632\n",
       "low     0.999999  0.999998  1.000000  0.999999  0.066665\n",
       "close   0.999998  0.999999  0.999999  1.000000  0.067143\n",
       "volume  0.067169  0.067632  0.066665  0.067143  1.000000"
      ]
     },
     "execution_count": 14,
     "metadata": {},
     "output_type": "execute_result"
    }
   ],
   "source": [
    "eth.corr()"
   ]
  },
  {
   "cell_type": "code",
   "execution_count": 17,
   "metadata": {},
   "outputs": [
    {
     "data": {
      "text/plain": [
       "open      0\n",
       "high      0\n",
       "low       0\n",
       "close     0\n",
       "volume    0\n",
       "dtype: int64"
      ]
     },
     "execution_count": 17,
     "metadata": {},
     "output_type": "execute_result"
    }
   ],
   "source": [
    "git checkout -b collect-clean"
   ]
  },
  {
   "cell_type": "code",
   "execution_count": 34,
   "metadata": {},
   "outputs": [
    {
     "ename": "KeyError",
     "evalue": "Index(['open_time'], dtype='object')",
     "output_type": "error",
     "traceback": [
      "\u001b[0;31m---------------------------------------------------------------------------\u001b[0m",
      "\u001b[0;31mKeyError\u001b[0m                                  Traceback (most recent call last)",
      "Cell \u001b[0;32mIn [34], line 1\u001b[0m\n\u001b[0;32m----> 1\u001b[0m eth\u001b[39m.\u001b[39;49mduplicated(subset\u001b[39m=\u001b[39;49m [\u001b[39m\"\u001b[39;49m\u001b[39mopen_time\u001b[39;49m\u001b[39m\"\u001b[39;49m])\n",
      "File \u001b[0;32m~/.pyenv/versions/crypto/lib/python3.9/site-packages/pandas/core/frame.py:6803\u001b[0m, in \u001b[0;36mDataFrame.duplicated\u001b[0;34m(self, subset, keep)\u001b[0m\n\u001b[1;32m   6801\u001b[0m diff \u001b[39m=\u001b[39m \u001b[39mset\u001b[39m(subset) \u001b[39m-\u001b[39m \u001b[39mset\u001b[39m(\u001b[39mself\u001b[39m\u001b[39m.\u001b[39mcolumns)\n\u001b[1;32m   6802\u001b[0m \u001b[39mif\u001b[39;00m diff:\n\u001b[0;32m-> 6803\u001b[0m     \u001b[39mraise\u001b[39;00m \u001b[39mKeyError\u001b[39;00m(Index(diff))\n\u001b[1;32m   6805\u001b[0m \u001b[39mif\u001b[39;00m \u001b[39mlen\u001b[39m(subset) \u001b[39m==\u001b[39m \u001b[39m1\u001b[39m \u001b[39mand\u001b[39;00m \u001b[39mself\u001b[39m\u001b[39m.\u001b[39mcolumns\u001b[39m.\u001b[39mis_unique:\n\u001b[1;32m   6806\u001b[0m     \u001b[39m# GH#45236 This is faster than get_group_index below\u001b[39;00m\n\u001b[1;32m   6807\u001b[0m     result \u001b[39m=\u001b[39m \u001b[39mself\u001b[39m[subset[\u001b[39m0\u001b[39m]]\u001b[39m.\u001b[39mduplicated(keep)\n",
      "\u001b[0;31mKeyError\u001b[0m: Index(['open_time'], dtype='object')"
     ]
    }
   ],
   "source": [
    "eth.duplicated(subset= [\"open_time\"])"
   ]
  },
  {
   "cell_type": "code",
   "execution_count": null,
   "metadata": {},
   "outputs": [],
   "source": []
  }
 ],
 "metadata": {
  "kernelspec": {
   "display_name": "Python 3.9.14 64-bit ('crypto')",
   "language": "python",
   "name": "python3"
  },
  "language_info": {
   "codemirror_mode": {
    "name": "ipython",
    "version": 3
   },
   "file_extension": ".py",
   "mimetype": "text/x-python",
   "name": "python",
   "nbconvert_exporter": "python",
   "pygments_lexer": "ipython3",
   "version": "3.9.14"
  },
  "orig_nbformat": 4,
  "vscode": {
   "interpreter": {
    "hash": "47ae32b5c05d6804bd8ae4a5ad60d350f625edab1e589b4abf43ec4afcda3497"
   }
  }
 },
 "nbformat": 4,
 "nbformat_minor": 2
}
