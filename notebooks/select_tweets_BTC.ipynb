{
 "cells": [
  {
   "cell_type": "code",
   "execution_count": 28,
   "metadata": {},
   "outputs": [],
   "source": [
    "import pandas as pd\n",
    "import numpy as np"
   ]
  },
  {
   "cell_type": "code",
   "execution_count": 29,
   "metadata": {},
   "outputs": [
    {
     "name": "stderr",
     "output_type": "stream",
     "text": [
      "/var/folders/7b/bwcmp7pn36529ggfrkdpjyfw0000gn/T/ipykernel_7084/769167318.py:1: DtypeWarning: Columns (1,2,3,4,5,6,7,8,9,10,11,12) have mixed types. Specify dtype option on import or set low_memory=False.\n",
      "  df = pd.read_csv(\"../raw_data/Bitcoin_tweets.csv\").reset_index()\n"
     ]
    }
   ],
   "source": [
    "df = pd.read_csv(\"../raw_data/Bitcoin_tweets.csv\").reset_index()"
   ]
  },
  {
   "cell_type": "code",
   "execution_count": 30,
   "metadata": {},
   "outputs": [],
   "source": [
    "df2 = df[df[\"user_verified\"]==True]\n",
    "df2 = df2[[\"text\", \"user_name\", \"date\"]]"
   ]
  },
  {
   "cell_type": "code",
   "execution_count": 31,
   "metadata": {},
   "outputs": [
    {
     "data": {
      "text/html": [
       "<div>\n",
       "<style scoped>\n",
       "    .dataframe tbody tr th:only-of-type {\n",
       "        vertical-align: middle;\n",
       "    }\n",
       "\n",
       "    .dataframe tbody tr th {\n",
       "        vertical-align: top;\n",
       "    }\n",
       "\n",
       "    .dataframe thead th {\n",
       "        text-align: right;\n",
       "    }\n",
       "</style>\n",
       "<table border=\"1\" class=\"dataframe\">\n",
       "  <thead>\n",
       "    <tr style=\"text-align: right;\">\n",
       "      <th></th>\n",
       "      <th>text</th>\n",
       "      <th>user_name</th>\n",
       "      <th>date</th>\n",
       "    </tr>\n",
       "  </thead>\n",
       "  <tbody>\n",
       "    <tr>\n",
       "      <th>65906</th>\n",
       "      <td>Bitcoin price crash: Cryptocurrency plunges in...</td>\n",
       "      <td>Daily Express</td>\n",
       "      <td>2021-04-07 12:03:04</td>\n",
       "    </tr>\n",
       "    <tr>\n",
       "      <th>66378</th>\n",
       "      <td>The #BTC is stuck inside a large range between...</td>\n",
       "      <td>BTCC</td>\n",
       "      <td>2021-04-07 10:03:34</td>\n",
       "    </tr>\n",
       "    <tr>\n",
       "      <th>66447</th>\n",
       "      <td>Price data of #Bitcoin #BTC pairs on #btcturkp...</td>\n",
       "      <td>BtcTurk | PRO</td>\n",
       "      <td>2021-04-07 09:42:48</td>\n",
       "    </tr>\n",
       "    <tr>\n",
       "      <th>67137</th>\n",
       "      <td>#WhatsApp rival #Signal reportedly testing pee...</td>\n",
       "      <td>LatestLY</td>\n",
       "      <td>2021-04-07 05:37:45</td>\n",
       "    </tr>\n",
       "    <tr>\n",
       "      <th>67248</th>\n",
       "      <td>When supply is more than demand, what happens?...</td>\n",
       "      <td>Herbert R. Sim</td>\n",
       "      <td>2021-04-07 04:44:25</td>\n",
       "    </tr>\n",
       "  </tbody>\n",
       "</table>\n",
       "</div>"
      ],
      "text/plain": [
       "                                                    text       user_name  \\\n",
       "65906  Bitcoin price crash: Cryptocurrency plunges in...   Daily Express   \n",
       "66378  The #BTC is stuck inside a large range between...            BTCC   \n",
       "66447  Price data of #Bitcoin #BTC pairs on #btcturkp...   BtcTurk | PRO   \n",
       "67137  #WhatsApp rival #Signal reportedly testing pee...        LatestLY   \n",
       "67248  When supply is more than demand, what happens?...  Herbert R. Sim   \n",
       "\n",
       "                      date  \n",
       "65906  2021-04-07 12:03:04  \n",
       "66378  2021-04-07 10:03:34  \n",
       "66447  2021-04-07 09:42:48  \n",
       "67137  2021-04-07 05:37:45  \n",
       "67248  2021-04-07 04:44:25  "
      ]
     },
     "execution_count": 31,
     "metadata": {},
     "output_type": "execute_result"
    }
   ],
   "source": [
    "df2.head()"
   ]
  },
  {
   "cell_type": "code",
   "execution_count": 32,
   "metadata": {},
   "outputs": [],
   "source": [
    "#compression_opts = dict(method='csv',\n",
    "                        #archive_name='btc_tw.csv')  \n",
    "#df2.to_csv('btc_tw.csv', index=False)\n",
    "          "
   ]
  },
  {
   "cell_type": "code",
   "execution_count": 33,
   "metadata": {},
   "outputs": [],
   "source": [
    "#df3 = pd.read_csv(\"./btc_tw.csv\")"
   ]
  },
  {
   "cell_type": "code",
   "execution_count": 34,
   "metadata": {},
   "outputs": [],
   "source": [
    "# for txt in df3.text:\n",
    "#     print(type(txt)) if type(txt) != str else \"\""
   ]
  },
  {
   "cell_type": "code",
   "execution_count": 35,
   "metadata": {},
   "outputs": [],
   "source": [
    "#df3.head()"
   ]
  },
  {
   "cell_type": "code",
   "execution_count": 36,
   "metadata": {},
   "outputs": [],
   "source": [
    "from nltk.tokenize import word_tokenize\n",
    "from nltk.corpus import stopwords \n",
    "import string\n",
    "import unidecode\n",
    "from vaderSentiment.vaderSentiment import SentimentIntensityAnalyzer\n",
    "from tqdm import tqdm\n",
    "from nltk.stem.porter import *"
   ]
  },
  {
   "cell_type": "code",
   "execution_count": 37,
   "metadata": {},
   "outputs": [],
   "source": [
    "def clean (text):\n",
    "    \n",
    "    for punctuation in string.punctuation:\n",
    "        text = text.replace(punctuation, ' ') # Remove Punctuation\n",
    "        \n",
    "    lowercased = text.lower() # Lower Case\n",
    "    \n",
    "    unaccented_string = unidecode.unidecode(lowercased) # remove accents\n",
    "    words = unaccented_string.split()\n",
    "    \n",
    "    #tokenized = word_tokenize(unaccented_string) # Tokenize\n",
    "    \n",
    "    words_only = [word for word in words if word.isalpha()] # Remove numbers\n",
    "    \n",
    "    stop_words = set(stopwords.words('english')) # Make stopword list\n",
    "    \n",
    "    without_stopwords = [word for word in words_only if not word in stop_words] # Remove Stop Words\n",
    "    word = [PorterStemmer().stem(w) for w in without_stopwords]\n",
    "    # print(words)\n",
    "\n",
    "    return \" \".join(word)"
   ]
  },
  {
   "cell_type": "code",
   "execution_count": 38,
   "metadata": {},
   "outputs": [],
   "source": [
    "df2[\"clean_text\"]= df2[\"text\"].apply(clean)"
   ]
  },
  {
   "cell_type": "code",
   "execution_count": 39,
   "metadata": {},
   "outputs": [],
   "source": [
    "df2.to_csv('btc_tw.csv', index=False)"
   ]
  },
  {
   "cell_type": "code",
   "execution_count": 40,
   "metadata": {},
   "outputs": [
    {
     "data": {
      "text/html": [
       "<div>\n",
       "<style scoped>\n",
       "    .dataframe tbody tr th:only-of-type {\n",
       "        vertical-align: middle;\n",
       "    }\n",
       "\n",
       "    .dataframe tbody tr th {\n",
       "        vertical-align: top;\n",
       "    }\n",
       "\n",
       "    .dataframe thead th {\n",
       "        text-align: right;\n",
       "    }\n",
       "</style>\n",
       "<table border=\"1\" class=\"dataframe\">\n",
       "  <thead>\n",
       "    <tr style=\"text-align: right;\">\n",
       "      <th></th>\n",
       "      <th>text</th>\n",
       "      <th>user_name</th>\n",
       "      <th>date</th>\n",
       "      <th>clean_text</th>\n",
       "    </tr>\n",
       "  </thead>\n",
       "  <tbody>\n",
       "    <tr>\n",
       "      <th>65906</th>\n",
       "      <td>Bitcoin price crash: Cryptocurrency plunges in...</td>\n",
       "      <td>Daily Express</td>\n",
       "      <td>2021-04-07 12:03:04</td>\n",
       "      <td>bitcoin price crash cryptocurr plung valu drop...</td>\n",
       "    </tr>\n",
       "    <tr>\n",
       "      <th>66378</th>\n",
       "      <td>The #BTC is stuck inside a large range between...</td>\n",
       "      <td>BTCC</td>\n",
       "      <td>2021-04-07 10:03:34</td>\n",
       "      <td>btc stuck insid larg rang recent day bitcoin c...</td>\n",
       "    </tr>\n",
       "    <tr>\n",
       "      <th>66447</th>\n",
       "      <td>Price data of #Bitcoin #BTC pairs on #btcturkp...</td>\n",
       "      <td>BtcTurk | PRO</td>\n",
       "      <td>2021-04-07 09:42:48</td>\n",
       "      <td>price data bitcoin btc pair btcturkpro trade b...</td>\n",
       "    </tr>\n",
       "    <tr>\n",
       "      <th>67137</th>\n",
       "      <td>#WhatsApp rival #Signal reportedly testing pee...</td>\n",
       "      <td>LatestLY</td>\n",
       "      <td>2021-04-07 05:37:45</td>\n",
       "      <td>whatsapp rival signal reportedli test peer pee...</td>\n",
       "    </tr>\n",
       "    <tr>\n",
       "      <th>67248</th>\n",
       "      <td>When supply is more than demand, what happens?...</td>\n",
       "      <td>Herbert R. Sim</td>\n",
       "      <td>2021-04-07 04:44:25</td>\n",
       "      <td>suppli demand happen bitcoin best way hedg fia...</td>\n",
       "    </tr>\n",
       "  </tbody>\n",
       "</table>\n",
       "</div>"
      ],
      "text/plain": [
       "                                                    text       user_name  \\\n",
       "65906  Bitcoin price crash: Cryptocurrency plunges in...   Daily Express   \n",
       "66378  The #BTC is stuck inside a large range between...            BTCC   \n",
       "66447  Price data of #Bitcoin #BTC pairs on #btcturkp...   BtcTurk | PRO   \n",
       "67137  #WhatsApp rival #Signal reportedly testing pee...        LatestLY   \n",
       "67248  When supply is more than demand, what happens?...  Herbert R. Sim   \n",
       "\n",
       "                      date                                         clean_text  \n",
       "65906  2021-04-07 12:03:04  bitcoin price crash cryptocurr plung valu drop...  \n",
       "66378  2021-04-07 10:03:34  btc stuck insid larg rang recent day bitcoin c...  \n",
       "66447  2021-04-07 09:42:48  price data bitcoin btc pair btcturkpro trade b...  \n",
       "67137  2021-04-07 05:37:45  whatsapp rival signal reportedli test peer pee...  \n",
       "67248  2021-04-07 04:44:25  suppli demand happen bitcoin best way hedg fia...  "
      ]
     },
     "execution_count": 40,
     "metadata": {},
     "output_type": "execute_result"
    }
   ],
   "source": [
    "df2.head()"
   ]
  },
  {
   "cell_type": "code",
   "execution_count": null,
   "metadata": {},
   "outputs": [],
   "source": []
  }
 ],
 "metadata": {
  "kernelspec": {
   "display_name": "Python 3.9.14 64-bit ('crypto')",
   "language": "python",
   "name": "python3"
  },
  "language_info": {
   "codemirror_mode": {
    "name": "ipython",
    "version": 3
   },
   "file_extension": ".py",
   "mimetype": "text/x-python",
   "name": "python",
   "nbconvert_exporter": "python",
   "pygments_lexer": "ipython3",
   "version": "3.9.14"
  },
  "orig_nbformat": 4,
  "vscode": {
   "interpreter": {
    "hash": "47ae32b5c05d6804bd8ae4a5ad60d350f625edab1e589b4abf43ec4afcda3497"
   }
  }
 },
 "nbformat": 4,
 "nbformat_minor": 2
}
