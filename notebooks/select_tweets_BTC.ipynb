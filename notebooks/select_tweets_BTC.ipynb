{
 "cells": [
  {
   "cell_type": "code",
   "execution_count": 2,
   "metadata": {},
   "outputs": [],
   "source": [
    "import pandas as pd\n",
    "import numpy as np"
   ]
  },
  {
   "cell_type": "code",
   "execution_count": 3,
   "metadata": {},
   "outputs": [
    {
     "name": "stderr",
     "output_type": "stream",
     "text": [
      "/var/folders/7b/bwcmp7pn36529ggfrkdpjyfw0000gn/T/ipykernel_15415/769167318.py:1: DtypeWarning: Columns (1,2,3,4,5,6,7,8,9,10,11,12) have mixed types. Specify dtype option on import or set low_memory=False.\n",
      "  df = pd.read_csv(\"../raw_data/Bitcoin_tweets.csv\").reset_index()\n"
     ]
    }
   ],
   "source": [
    "df = pd.read_csv(\"../raw_data/Bitcoin_tweets.csv\").reset_index()"
   ]
  },
  {
   "cell_type": "code",
   "execution_count": 4,
   "metadata": {},
   "outputs": [],
   "source": [
    "df2 = df[df[\"user_verified\"]==True]\n",
    "df2 = df2[[\"text\", \"user_name\", \"date\"]]"
   ]
  },
  {
   "cell_type": "code",
   "execution_count": 5,
   "metadata": {},
   "outputs": [
    {
     "data": {
      "text/html": [
       "<div>\n",
       "<style scoped>\n",
       "    .dataframe tbody tr th:only-of-type {\n",
       "        vertical-align: middle;\n",
       "    }\n",
       "\n",
       "    .dataframe tbody tr th {\n",
       "        vertical-align: top;\n",
       "    }\n",
       "\n",
       "    .dataframe thead th {\n",
       "        text-align: right;\n",
       "    }\n",
       "</style>\n",
       "<table border=\"1\" class=\"dataframe\">\n",
       "  <thead>\n",
       "    <tr style=\"text-align: right;\">\n",
       "      <th></th>\n",
       "      <th>text</th>\n",
       "      <th>user_name</th>\n",
       "      <th>date</th>\n",
       "    </tr>\n",
       "  </thead>\n",
       "  <tbody>\n",
       "    <tr>\n",
       "      <th>65906</th>\n",
       "      <td>Bitcoin price crash: Cryptocurrency plunges in...</td>\n",
       "      <td>Daily Express</td>\n",
       "      <td>2021-04-07 12:03:04</td>\n",
       "    </tr>\n",
       "    <tr>\n",
       "      <th>66378</th>\n",
       "      <td>The #BTC is stuck inside a large range between...</td>\n",
       "      <td>BTCC</td>\n",
       "      <td>2021-04-07 10:03:34</td>\n",
       "    </tr>\n",
       "    <tr>\n",
       "      <th>66447</th>\n",
       "      <td>Price data of #Bitcoin #BTC pairs on #btcturkp...</td>\n",
       "      <td>BtcTurk | PRO</td>\n",
       "      <td>2021-04-07 09:42:48</td>\n",
       "    </tr>\n",
       "    <tr>\n",
       "      <th>67137</th>\n",
       "      <td>#WhatsApp rival #Signal reportedly testing pee...</td>\n",
       "      <td>LatestLY</td>\n",
       "      <td>2021-04-07 05:37:45</td>\n",
       "    </tr>\n",
       "    <tr>\n",
       "      <th>67248</th>\n",
       "      <td>When supply is more than demand, what happens?...</td>\n",
       "      <td>Herbert R. Sim</td>\n",
       "      <td>2021-04-07 04:44:25</td>\n",
       "    </tr>\n",
       "  </tbody>\n",
       "</table>\n",
       "</div>"
      ],
      "text/plain": [
       "                                                    text       user_name  \\\n",
       "65906  Bitcoin price crash: Cryptocurrency plunges in...   Daily Express   \n",
       "66378  The #BTC is stuck inside a large range between...            BTCC   \n",
       "66447  Price data of #Bitcoin #BTC pairs on #btcturkp...   BtcTurk | PRO   \n",
       "67137  #WhatsApp rival #Signal reportedly testing pee...        LatestLY   \n",
       "67248  When supply is more than demand, what happens?...  Herbert R. Sim   \n",
       "\n",
       "                      date  \n",
       "65906  2021-04-07 12:03:04  \n",
       "66378  2021-04-07 10:03:34  \n",
       "66447  2021-04-07 09:42:48  \n",
       "67137  2021-04-07 05:37:45  \n",
       "67248  2021-04-07 04:44:25  "
      ]
     },
     "execution_count": 5,
     "metadata": {},
     "output_type": "execute_result"
    }
   ],
   "source": [
    "df2.head()"
   ]
  },
  {
   "cell_type": "code",
   "execution_count": 32,
   "metadata": {},
   "outputs": [],
   "source": [
    "#compression_opts = dict(method='csv',\n",
    "                        #archive_name='btc_tw.csv')  \n",
    "#df2.to_csv('btc_tw.csv', index=False)\n",
    "          "
   ]
  },
  {
   "cell_type": "code",
   "execution_count": 33,
   "metadata": {},
   "outputs": [],
   "source": [
    "#df3 = pd.read_csv(\"./btc_tw.csv\")"
   ]
  },
  {
   "cell_type": "code",
   "execution_count": 34,
   "metadata": {},
   "outputs": [],
   "source": [
    "# for txt in df3.text:\n",
    "#     print(type(txt)) if type(txt) != str else \"\""
   ]
  },
  {
   "cell_type": "code",
   "execution_count": 35,
   "metadata": {},
   "outputs": [],
   "source": [
    "#df3.head()"
   ]
  },
  {
   "cell_type": "code",
   "execution_count": 6,
   "metadata": {},
   "outputs": [],
   "source": [
    "from nltk.tokenize import word_tokenize\n",
    "from nltk.corpus import stopwords \n",
    "import string\n",
    "import unidecode\n",
    "from vaderSentiment.vaderSentiment import SentimentIntensityAnalyzer\n",
    "from tqdm import tqdm\n",
    "from nltk.stem.porter import *"
   ]
  },
  {
   "cell_type": "code",
   "execution_count": 7,
   "metadata": {},
   "outputs": [],
   "source": [
    "def clean (text):\n",
    "    \n",
    "    for punctuation in string.punctuation:\n",
    "        text = text.replace(punctuation, ' ') # Remove Punctuation\n",
    "        \n",
    "    lowercased = text.lower() # Lower Case\n",
    "    \n",
    "    unaccented_string = unidecode.unidecode(lowercased) # remove accents\n",
    "    words = unaccented_string.split()\n",
    "    \n",
    "    #tokenized = word_tokenize(unaccented_string) # Tokenize\n",
    "    \n",
    "    words_only = [word for word in words if word.isalpha()] # Remove numbers\n",
    "    \n",
    "    stop_words = set(stopwords.words('english')) # Make stopword list\n",
    "    \n",
    "    without_stopwords = [word for word in words_only if not word in stop_words] # Remove Stop Words\n",
    "    word = [PorterStemmer().stem(w) for w in without_stopwords]\n",
    "    # print(words)\n",
    "\n",
    "    return \" \".join(word)"
   ]
  },
  {
   "cell_type": "code",
   "execution_count": 8,
   "metadata": {},
   "outputs": [],
   "source": [
    "df2[\"clean_text\"]= df2[\"text\"].apply(clean)"
   ]
  },
  {
   "cell_type": "code",
   "execution_count": 12,
   "metadata": {},
   "outputs": [],
   "source": [
    "df2 = df2.drop(columns = [\"text\"])"
   ]
  },
  {
   "cell_type": "code",
   "execution_count": 13,
   "metadata": {},
   "outputs": [
    {
     "data": {
      "text/html": [
       "<div>\n",
       "<style scoped>\n",
       "    .dataframe tbody tr th:only-of-type {\n",
       "        vertical-align: middle;\n",
       "    }\n",
       "\n",
       "    .dataframe tbody tr th {\n",
       "        vertical-align: top;\n",
       "    }\n",
       "\n",
       "    .dataframe thead th {\n",
       "        text-align: right;\n",
       "    }\n",
       "</style>\n",
       "<table border=\"1\" class=\"dataframe\">\n",
       "  <thead>\n",
       "    <tr style=\"text-align: right;\">\n",
       "      <th></th>\n",
       "      <th>user_name</th>\n",
       "      <th>date</th>\n",
       "      <th>clean_text</th>\n",
       "    </tr>\n",
       "  </thead>\n",
       "  <tbody>\n",
       "    <tr>\n",
       "      <th>65906</th>\n",
       "      <td>Daily Express</td>\n",
       "      <td>2021-04-07 12:03:04</td>\n",
       "      <td>bitcoin price crash cryptocurr plung valu drop...</td>\n",
       "    </tr>\n",
       "    <tr>\n",
       "      <th>66378</th>\n",
       "      <td>BTCC</td>\n",
       "      <td>2021-04-07 10:03:34</td>\n",
       "      <td>btc stuck insid larg rang recent day bitcoin c...</td>\n",
       "    </tr>\n",
       "    <tr>\n",
       "      <th>66447</th>\n",
       "      <td>BtcTurk | PRO</td>\n",
       "      <td>2021-04-07 09:42:48</td>\n",
       "      <td>price data bitcoin btc pair btcturkpro trade b...</td>\n",
       "    </tr>\n",
       "    <tr>\n",
       "      <th>67137</th>\n",
       "      <td>LatestLY</td>\n",
       "      <td>2021-04-07 05:37:45</td>\n",
       "      <td>whatsapp rival signal reportedli test peer pee...</td>\n",
       "    </tr>\n",
       "    <tr>\n",
       "      <th>67248</th>\n",
       "      <td>Herbert R. Sim</td>\n",
       "      <td>2021-04-07 04:44:25</td>\n",
       "      <td>suppli demand happen bitcoin best way hedg fia...</td>\n",
       "    </tr>\n",
       "  </tbody>\n",
       "</table>\n",
       "</div>"
      ],
      "text/plain": [
       "            user_name                 date  \\\n",
       "65906   Daily Express  2021-04-07 12:03:04   \n",
       "66378            BTCC  2021-04-07 10:03:34   \n",
       "66447   BtcTurk | PRO  2021-04-07 09:42:48   \n",
       "67137        LatestLY  2021-04-07 05:37:45   \n",
       "67248  Herbert R. Sim  2021-04-07 04:44:25   \n",
       "\n",
       "                                              clean_text  \n",
       "65906  bitcoin price crash cryptocurr plung valu drop...  \n",
       "66378  btc stuck insid larg rang recent day bitcoin c...  \n",
       "66447  price data bitcoin btc pair btcturkpro trade b...  \n",
       "67137  whatsapp rival signal reportedli test peer pee...  \n",
       "67248  suppli demand happen bitcoin best way hedg fia...  "
      ]
     },
     "execution_count": 13,
     "metadata": {},
     "output_type": "execute_result"
    }
   ],
   "source": [
    "df2.head()"
   ]
  },
  {
   "cell_type": "code",
   "execution_count": 14,
   "metadata": {},
   "outputs": [],
   "source": [
    "df2.to_csv('btc_tw.csv', index=False)"
   ]
  },
  {
   "cell_type": "code",
   "execution_count": 40,
   "metadata": {},
   "outputs": [
    {
     "data": {
      "text/html": [
       "<div>\n",
       "<style scoped>\n",
       "    .dataframe tbody tr th:only-of-type {\n",
       "        vertical-align: middle;\n",
       "    }\n",
       "\n",
       "    .dataframe tbody tr th {\n",
       "        vertical-align: top;\n",
       "    }\n",
       "\n",
       "    .dataframe thead th {\n",
       "        text-align: right;\n",
       "    }\n",
       "</style>\n",
       "<table border=\"1\" class=\"dataframe\">\n",
       "  <thead>\n",
       "    <tr style=\"text-align: right;\">\n",
       "      <th></th>\n",
       "      <th>text</th>\n",
       "      <th>user_name</th>\n",
       "      <th>date</th>\n",
       "      <th>clean_text</th>\n",
       "    </tr>\n",
       "  </thead>\n",
       "  <tbody>\n",
       "    <tr>\n",
       "      <th>65906</th>\n",
       "      <td>Bitcoin price crash: Cryptocurrency plunges in...</td>\n",
       "      <td>Daily Express</td>\n",
       "      <td>2021-04-07 12:03:04</td>\n",
       "      <td>bitcoin price crash cryptocurr plung valu drop...</td>\n",
       "    </tr>\n",
       "    <tr>\n",
       "      <th>66378</th>\n",
       "      <td>The #BTC is stuck inside a large range between...</td>\n",
       "      <td>BTCC</td>\n",
       "      <td>2021-04-07 10:03:34</td>\n",
       "      <td>btc stuck insid larg rang recent day bitcoin c...</td>\n",
       "    </tr>\n",
       "    <tr>\n",
       "      <th>66447</th>\n",
       "      <td>Price data of #Bitcoin #BTC pairs on #btcturkp...</td>\n",
       "      <td>BtcTurk | PRO</td>\n",
       "      <td>2021-04-07 09:42:48</td>\n",
       "      <td>price data bitcoin btc pair btcturkpro trade b...</td>\n",
       "    </tr>\n",
       "    <tr>\n",
       "      <th>67137</th>\n",
       "      <td>#WhatsApp rival #Signal reportedly testing pee...</td>\n",
       "      <td>LatestLY</td>\n",
       "      <td>2021-04-07 05:37:45</td>\n",
       "      <td>whatsapp rival signal reportedli test peer pee...</td>\n",
       "    </tr>\n",
       "    <tr>\n",
       "      <th>67248</th>\n",
       "      <td>When supply is more than demand, what happens?...</td>\n",
       "      <td>Herbert R. Sim</td>\n",
       "      <td>2021-04-07 04:44:25</td>\n",
       "      <td>suppli demand happen bitcoin best way hedg fia...</td>\n",
       "    </tr>\n",
       "  </tbody>\n",
       "</table>\n",
       "</div>"
      ],
      "text/plain": [
       "                                                    text       user_name  \\\n",
       "65906  Bitcoin price crash: Cryptocurrency plunges in...   Daily Express   \n",
       "66378  The #BTC is stuck inside a large range between...            BTCC   \n",
       "66447  Price data of #Bitcoin #BTC pairs on #btcturkp...   BtcTurk | PRO   \n",
       "67137  #WhatsApp rival #Signal reportedly testing pee...        LatestLY   \n",
       "67248  When supply is more than demand, what happens?...  Herbert R. Sim   \n",
       "\n",
       "                      date                                         clean_text  \n",
       "65906  2021-04-07 12:03:04  bitcoin price crash cryptocurr plung valu drop...  \n",
       "66378  2021-04-07 10:03:34  btc stuck insid larg rang recent day bitcoin c...  \n",
       "66447  2021-04-07 09:42:48  price data bitcoin btc pair btcturkpro trade b...  \n",
       "67137  2021-04-07 05:37:45  whatsapp rival signal reportedli test peer pee...  \n",
       "67248  2021-04-07 04:44:25  suppli demand happen bitcoin best way hedg fia...  "
      ]
     },
     "execution_count": 40,
     "metadata": {},
     "output_type": "execute_result"
    }
   ],
   "source": []
  },
  {
   "cell_type": "code",
   "execution_count": 41,
   "metadata": {},
   "outputs": [
    {
     "data": {
      "text/html": [
       "<div>\n",
       "<style scoped>\n",
       "    .dataframe tbody tr th:only-of-type {\n",
       "        vertical-align: middle;\n",
       "    }\n",
       "\n",
       "    .dataframe tbody tr th {\n",
       "        vertical-align: top;\n",
       "    }\n",
       "\n",
       "    .dataframe thead th {\n",
       "        text-align: right;\n",
       "    }\n",
       "</style>\n",
       "<table border=\"1\" class=\"dataframe\">\n",
       "  <thead>\n",
       "    <tr style=\"text-align: right;\">\n",
       "      <th></th>\n",
       "      <th>user_name</th>\n",
       "      <th>date</th>\n",
       "      <th>clean_text</th>\n",
       "    </tr>\n",
       "  </thead>\n",
       "  <tbody>\n",
       "    <tr>\n",
       "      <th>65906</th>\n",
       "      <td>Daily Express</td>\n",
       "      <td>2021-04-07 12:03:04</td>\n",
       "      <td>bitcoin price crash cryptocurr plung valu drop...</td>\n",
       "    </tr>\n",
       "    <tr>\n",
       "      <th>66378</th>\n",
       "      <td>BTCC</td>\n",
       "      <td>2021-04-07 10:03:34</td>\n",
       "      <td>btc stuck insid larg rang recent day bitcoin c...</td>\n",
       "    </tr>\n",
       "    <tr>\n",
       "      <th>66447</th>\n",
       "      <td>BtcTurk | PRO</td>\n",
       "      <td>2021-04-07 09:42:48</td>\n",
       "      <td>price data bitcoin btc pair btcturkpro trade b...</td>\n",
       "    </tr>\n",
       "    <tr>\n",
       "      <th>67137</th>\n",
       "      <td>LatestLY</td>\n",
       "      <td>2021-04-07 05:37:45</td>\n",
       "      <td>whatsapp rival signal reportedli test peer pee...</td>\n",
       "    </tr>\n",
       "    <tr>\n",
       "      <th>67248</th>\n",
       "      <td>Herbert R. Sim</td>\n",
       "      <td>2021-04-07 04:44:25</td>\n",
       "      <td>suppli demand happen bitcoin best way hedg fia...</td>\n",
       "    </tr>\n",
       "    <tr>\n",
       "      <th>...</th>\n",
       "      <td>...</td>\n",
       "      <td>...</td>\n",
       "      <td>...</td>\n",
       "    </tr>\n",
       "    <tr>\n",
       "      <th>4325191</th>\n",
       "      <td>DustyBC Crypto</td>\n",
       "      <td>2022-10-11 17:55:00</td>\n",
       "      <td>think bitcoin go lower year ye</td>\n",
       "    </tr>\n",
       "    <tr>\n",
       "      <th>4325355</th>\n",
       "      <td>Jeremy Gardner</td>\n",
       "      <td>2022-10-11 17:47:53</td>\n",
       "      <td>noth warm soul like crypto confer bear market ...</td>\n",
       "    </tr>\n",
       "    <tr>\n",
       "      <th>57409629</th>\n",
       "      <td>Whale Coin Talk</td>\n",
       "      <td>2022-11-20 19:48:47</td>\n",
       "      <td>join us tomorrow vrynt pm est pm utc set remin...</td>\n",
       "    </tr>\n",
       "    <tr>\n",
       "      <th>57410966</th>\n",
       "      <td>Bitcoin News</td>\n",
       "      <td>2022-11-20 21:31:49</td>\n",
       "      <td>one bet made slot destin land massiv win btc b...</td>\n",
       "    </tr>\n",
       "    <tr>\n",
       "      <th>57411030</th>\n",
       "      <td>David Choi</td>\n",
       "      <td>2022-11-20 21:20:24</td>\n",
       "      <td>dergigi great thread dergigi think folk unders...</td>\n",
       "    </tr>\n",
       "  </tbody>\n",
       "</table>\n",
       "<p>24670 rows × 3 columns</p>\n",
       "</div>"
      ],
      "text/plain": [
       "                user_name                 date  \\\n",
       "65906       Daily Express  2021-04-07 12:03:04   \n",
       "66378                BTCC  2021-04-07 10:03:34   \n",
       "66447       BtcTurk | PRO  2021-04-07 09:42:48   \n",
       "67137            LatestLY  2021-04-07 05:37:45   \n",
       "67248      Herbert R. Sim  2021-04-07 04:44:25   \n",
       "...                   ...                  ...   \n",
       "4325191    DustyBC Crypto  2022-10-11 17:55:00   \n",
       "4325355    Jeremy Gardner  2022-10-11 17:47:53   \n",
       "57409629  Whale Coin Talk  2022-11-20 19:48:47   \n",
       "57410966     Bitcoin News  2022-11-20 21:31:49   \n",
       "57411030       David Choi  2022-11-20 21:20:24   \n",
       "\n",
       "                                                 clean_text  \n",
       "65906     bitcoin price crash cryptocurr plung valu drop...  \n",
       "66378     btc stuck insid larg rang recent day bitcoin c...  \n",
       "66447     price data bitcoin btc pair btcturkpro trade b...  \n",
       "67137     whatsapp rival signal reportedli test peer pee...  \n",
       "67248     suppli demand happen bitcoin best way hedg fia...  \n",
       "...                                                     ...  \n",
       "4325191                      think bitcoin go lower year ye  \n",
       "4325355   noth warm soul like crypto confer bear market ...  \n",
       "57409629  join us tomorrow vrynt pm est pm utc set remin...  \n",
       "57410966  one bet made slot destin land massiv win btc b...  \n",
       "57411030  dergigi great thread dergigi think folk unders...  \n",
       "\n",
       "[24670 rows x 3 columns]"
      ]
     },
     "execution_count": 41,
     "metadata": {},
     "output_type": "execute_result"
    }
   ],
   "source": [
    "df2.drop([\"text\"], axis=1)"
   ]
  },
  {
   "cell_type": "code",
   "execution_count": 42,
   "metadata": {},
   "outputs": [],
   "source": [
    "df2.to_csv('btc_tw.csv', index=False)"
   ]
  },
  {
   "cell_type": "code",
   "execution_count": 1,
   "metadata": {},
   "outputs": [
    {
     "ename": "NameError",
     "evalue": "name 'df2' is not defined",
     "output_type": "error",
     "traceback": [
      "\u001b[0;31m---------------------------------------------------------------------------\u001b[0m",
      "\u001b[0;31mNameError\u001b[0m                                 Traceback (most recent call last)",
      "Cell \u001b[0;32mIn [1], line 1\u001b[0m\n\u001b[0;32m----> 1\u001b[0m df2\u001b[39m.\u001b[39mhead()\n",
      "\u001b[0;31mNameError\u001b[0m: name 'df2' is not defined"
     ]
    }
   ],
   "source": [
    "df2.head()"
   ]
  },
  {
   "cell_type": "code",
   "execution_count": null,
   "metadata": {},
   "outputs": [],
   "source": []
  }
 ],
 "metadata": {
  "kernelspec": {
   "display_name": "Python 3.9.14 64-bit ('crypto')",
   "language": "python",
   "name": "python3"
  },
  "language_info": {
   "codemirror_mode": {
    "name": "ipython",
    "version": 3
   },
   "file_extension": ".py",
   "mimetype": "text/x-python",
   "name": "python",
   "nbconvert_exporter": "python",
   "pygments_lexer": "ipython3",
   "version": "3.9.14"
  },
  "orig_nbformat": 4,
  "vscode": {
   "interpreter": {
    "hash": "47ae32b5c05d6804bd8ae4a5ad60d350f625edab1e589b4abf43ec4afcda3497"
   }
  }
 },
 "nbformat": 4,
 "nbformat_minor": 2
}
